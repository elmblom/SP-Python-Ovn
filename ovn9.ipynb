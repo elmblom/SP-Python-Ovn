{
 "cells": [
  {
   "cell_type": "code",
   "execution_count": null,
   "id": "434bf887",
   "metadata": {},
   "outputs": [],
   "source": [
    "# Script programering 9-2&1\n",
    "\n",
    "import json\n",
    "import os\n",
    "\n",
    "data = {\"name\": \"Alice\", \"age\": 30, \"city\": \"Wonderland\"}\n",
    "with open(\"output.json\", \"w+\") as f:\n",
    "    json.dump(data, f)\n",
    "    f.seek(0)\n",
    "    print(json.dumps(json.load(f), indent=4))\n",
    "os.remove(\"output.json\")"
   ]
  },
  {
   "cell_type": "code",
   "execution_count": null,
   "id": "63cd326c",
   "metadata": {},
   "outputs": [],
   "source": [
    "# Script programering 9-4,6,3&5\n",
    "\n",
    "import csv\n",
    "import json\n",
    "import os\n",
    "\n",
    "data = [\n",
    "    {\"name\": \"Alice\", \"age\": 30, \"city\": \"Wonderland\"},\n",
    "    {\"name\": \"Gandalf\", \"age\": 2019, \"city\": \"Middle-earth\"},\n",
    "    {\"name\": \"Frodo\", \"age\": 50, \"city\": \"Shire\"},\n",
    "    {\"name\": \"Hermione\", \"age\": 19, \"city\": \"Hogwarts\"},\n",
    "    {\"name\": \"Legolas\", \"age\": 2931, \"city\": \"Mirkwood\"},\n",
    "    {\"name\": \"Arya\", \"age\": 18, \"city\": \"Winterfell\"}\n",
    "]\n",
    "with open(\"data.csv\", \"w+\") as f:\n",
    "    writer = csv.writer(f)\n",
    "    writer.writerow(data[0].keys())\n",
    "    for row in data:\n",
    "        writer.writerow(row.values())\n",
    "with open(\"data.csv\", \"w+\") as f:\n",
    "    rows = list(csv.reader(f))\n",
    "    header = rows[0]\n",
    "    print(\"{:<10} {:<6} {:<15}\".format(*header))\n",
    "    print(\"-\" * 32)\n",
    "    for row in rows[1:]:\n",
    "        print(\"{:<10} {:<6} {:<15}\".format(*row))\n",
    "    f.seek(0)\n",
    "    data = list(csv.DictReader(f))\n",
    "os.remove(\"data.csv\")\n",
    "    \n",
    "# Script programering 9-7\n",
    "\n",
    "with open(\"data.json\", \"w+\") as f:\n",
    "    json.dump(data, f)\n",
    "    f.seek(0)\n",
    "    print(json.dumps(json.load(f), indent=4))\n",
    "os.remove(\"data.json\")\n"
   ]
  },
  {
   "cell_type": "code",
   "execution_count": 48,
   "id": "aba3c452",
   "metadata": {},
   "outputs": [],
   "source": [
    "# Script programering 9-8\n",
    "\n",
    "import csv\n",
    "import json\n",
    "import os\n",
    "\n",
    "data = [\n",
    "    {\"name\": \"Alice\", \"age\": 30, \"city\": \"Wonderland\"},\n",
    "    {\"name\": \"Gandalf\", \"age\": 2019, \"city\": \"Middle-earth\"},\n",
    "    {\"name\": \"Frodo\", \"age\": 50, \"city\": \"Shire\"},\n",
    "    {\"name\": \"Hermione\", \"age\": 19, \"city\": \"Hogwarts\"},\n",
    "    {\"name\": \"Legolas\", \"age\": 2931, \"city\": \"Mirkwood\"},\n",
    "    {\"name\": \"Arya\", \"age\": 18, \"city\": \"Winterfell\"}\n",
    "]\n",
    "\n",
    "with open(\"data.json\", \"w+\") as f:\n",
    "    json.dump(data,f)\n",
    "    f.seek(0)\n",
    "    data = json.load(f)\n",
    "    \n",
    "with open(\"data.csv\", \"w+\") as f:\n",
    "    writer = csv.writer(f)\n",
    "\n",
    "    i = 0\n",
    "    for x in data:\n",
    "        if i == 0:\n",
    "            header = x.keys()\n",
    "            writer.writerow(header)\n",
    "            i += 1\n",
    "        writer.writerow(x.values())\n",
    "        \n",
    "os.remove(\"data.json\")\n",
    "\n",
    "\n"
   ]
  },
  {
   "cell_type": "code",
   "execution_count": 63,
   "id": "fa7a4d21",
   "metadata": {},
   "outputs": [
    {
     "name": "stdout",
     "output_type": "stream",
     "text": [
      "Gandalf from Middle-earth is older than 30\n",
      "Frodo from Shire is older than 30\n",
      "Legolas from Mirkwood is older than 30\n"
     ]
    }
   ],
   "source": [
    "# Script programering 9-9&10\n",
    "\n",
    "import csv\n",
    "import json\n",
    "\n",
    "data = \"name,age,city\\nAlice,30,Wonderland\\nGandalf,2019,Middle-earth\\nFrodo,50,Shire\\nHermione,19,Hogwarts\\nLegolas,2931,Mirkwood\\nArya,18,Winterfell\\n\"\n",
    "\n",
    "with open(\"data.csv\", \"w+\") as f:\n",
    "    f.write(data)\n",
    "    f.seek(0)\n",
    "    data = f.read()\n",
    "    \n",
    "with open(\"data.json\", \"w+\") as f:\n",
    "    reader = csv.DictReader(data.splitlines())\n",
    "    json.dump(list(reader), f)\n",
    "    f.seek(0)\n",
    "    data = json.load(f)\n",
    "\n",
    "for x in data:\n",
    "    if int(x[\"age\"]) > 30:\n",
    "        print(\"{} from {} is older than 30\".format(x[\"name\"], x[\"city\"]))\n",
    "    "
   ]
  }
 ],
 "metadata": {
  "kernelspec": {
   "display_name": "Python 3",
   "language": "python",
   "name": "python3"
  },
  "language_info": {
   "codemirror_mode": {
    "name": "ipython",
    "version": 3
   },
   "file_extension": ".py",
   "mimetype": "text/x-python",
   "name": "python",
   "nbconvert_exporter": "python",
   "pygments_lexer": "ipython3",
   "version": "3.13.7"
  }
 },
 "nbformat": 4,
 "nbformat_minor": 5
}
