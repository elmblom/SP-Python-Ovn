{
 "cells": [
  {
   "cell_type": "code",
   "execution_count": 22,
   "id": "f32b3863",
   "metadata": {},
   "outputs": [
    {
     "name": "stdout",
     "output_type": "stream",
     "text": [
      "The average score is: 10.0\n"
     ]
    }
   ],
   "source": [
    "# Script programering 2-1\n",
    "\n",
    "scores = []\n",
    "scoreamount = 0\n",
    "\n",
    "while \"\" not in scores:\n",
    "    scores.append(input(\"Enter a score (or press Enter to finish): \"))\n",
    "    scoreamount += 1\n",
    "    \n",
    "average = 0\n",
    "scoreamount -= 1 \n",
    "\n",
    "scores.remove(\"\")\n",
    "for score in scores:\n",
    "    if score != \"\":\n",
    "        average += int(score)\n",
    "        \n",
    "average = average / scoreamount\n",
    "        \n",
    "print(\"The average score is:\", average)\n",
    "    "
   ]
  },
  {
   "cell_type": "code",
   "execution_count": 15,
   "id": "7f78c840",
   "metadata": {},
   "outputs": [
    {
     "name": "stdout",
     "output_type": "stream",
     "text": [
      "Your BMI is: 24.740937287102444\n",
      "You have a normal weight.\n"
     ]
    }
   ],
   "source": [
    "# Script programering 2-2\n",
    "\n",
    "num1 = float(input(\"Enter your weight in kilos: \"))\n",
    "num2 = float(input(\"Enter your height in meters: \"))\n",
    "bmi = num1 / (num2 ** 2)\n",
    "print(\"Your BMI is: {}\".format(bmi))\n",
    "if bmi < 18.5:\n",
    "    print(\"You are underweight.\")\n",
    "elif 18.5 <= bmi < 24.9:\n",
    "    print(\"You have a normal weight.\")\n",
    "elif 25 <= bmi < 29.9:\n",
    "    print(\"You are overweight.\")\n",
    "elif bmi >= 30:\n",
    "    print(\"You are obese.\")"
   ]
  },
  {
   "cell_type": "code",
   "execution_count": 3,
   "id": "be283a09",
   "metadata": {},
   "outputs": [
    {
     "name": "stdout",
     "output_type": "stream",
     "text": [
      "Todays gas price is: 2.182€\n",
      "Jinkeys, the price is a bit high today.\n",
      "Only 30.0 liters? You are not even halfway full!\n"
     ]
    }
   ],
   "source": [
    "# Script programering 2-3\n",
    "\n",
    "import random\n",
    "price = round(random.uniform(1.3, 2.9), 3)\n",
    "print(\"Todays gas price is: {}€\".format(price))\n",
    "volume = float(input(\"How many liters does your car hold? \"))\n",
    "desired = float(input(\"How many liters do you want to buy? \"))\n",
    "total = round(price * desired, 4)\n",
    "\n",
    "if price < 1.5:\n",
    "    print(\"Wow, the price is low today!\")\n",
    "elif price < 2.0:\n",
    "    print(\"The price is decent today.\")\n",
    "elif price < 2.5:\n",
    "    print(\"Jinkeys, the price is a bit high today.\")\n",
    "else:\n",
    "    print(\"The price is very high today, you should consider walking instead of driving. Well i guess it's your money, your choice.\")\n",
    "\n",
    "\n",
    "if desired < volume/5:\n",
    "    print(\"Only {} liters!? Who are you? Scrooge McDuck?\".format(desired))\n",
    "elif desired < volume/3:\n",
    "    print(\"Only {} liters? Havent you heard that you should go big or go home!\".format(desired))\n",
    "elif desired < volume/2:\n",
    "    print(\"Only {} liters? You are not even halfway full!\".format(desired))\n",
    "elif desired < volume:\n",
    "    print(\"{} liters, really? Just add on {} liters, then your tank will be full\".format(desired) + (volume - desired))\n",
    "elif desired == volume:\n",
    "    print(\"Your filling your tank, nice!\")"
   ]
  },
  {
   "cell_type": "code",
   "execution_count": 5,
   "id": "b818bfc9",
   "metadata": {},
   "outputs": [
    {
     "name": "stdout",
     "output_type": "stream",
     "text": [
      "You are not eligible to pay by invoice.\n"
     ]
    }
   ],
   "source": [
    "# Script programering 2-4\n",
    "\n",
    "userage = int(input(\"Enter your age: \"))\n",
    "\n",
    "if userage < 18:\n",
    "    print(\"You are not eligible to pay by invoice.\")\n",
    "else:\n",
    "    useranualwage = float(input(\"Enter your annual wage: \"))\n",
    "    if useranualwage < 60000:\n",
    "        print(\"You are not eligible to pay by invoice.\")\n",
    "    else:\n",
    "        if input(\"Do you have any payment defaults on your record? (yes/no) \").lower() == \"yes\":\n",
    "            print(\"You are not eligible to pay by invoice.\")\n",
    "        else:\n",
    "            print(\"You are eligible to pay by invoice.\")\n"
   ]
  },
  {
   "cell_type": "code",
   "execution_count": null,
   "id": "37650a5d",
   "metadata": {},
   "outputs": [
    {
     "name": "stdout",
     "output_type": "stream",
     "text": [
      "Welcome to the leap year checker 3000!\n",
      "1666 is not a leap year. (pro tip the leap year was instituted in 1753)\n"
     ]
    }
   ],
   "source": [
    "# Script programering 2-5\n",
    "\n",
    "print(\"Welcome to the leap year checker 3000!\")\n",
    "year = int(input(\"Enter a year to check if it's a leap year: \"))\n",
    "if year < 1753:\n",
    "    print(\"{} is not a leap year (pro tip the leap year was instituted in 1753)\".format(year))\n",
    "elif (year % 4 == 0 and year % 100 != 0) or (year % 400 == 0):\n",
    "    print(\"{} is a leap year!\".format(year))\n",
    "else:\n",
    "    print(\"{} is not a leap year.\".format(year))"
   ]
  }
 ],
 "metadata": {
  "kernelspec": {
   "display_name": "base",
   "language": "python",
   "name": "python3"
  },
  "language_info": {
   "codemirror_mode": {
    "name": "ipython",
    "version": 3
   },
   "file_extension": ".py",
   "mimetype": "text/x-python",
   "name": "python",
   "nbconvert_exporter": "python",
   "pygments_lexer": "ipython3",
   "version": "3.13.5"
  }
 },
 "nbformat": 4,
 "nbformat_minor": 5
}
