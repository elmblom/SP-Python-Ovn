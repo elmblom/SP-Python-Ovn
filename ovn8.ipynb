{
 "cells": [
  {
   "cell_type": "code",
   "execution_count": null,
   "id": "07cf1bbf",
   "metadata": {},
   "outputs": [],
   "source": [
    "# Script programering 8-1\n",
    "\n",
    "import random\n",
    "\n",
    "print(random.randint(1,10))"
   ]
  },
  {
   "cell_type": "code",
   "execution_count": null,
   "id": "c793eb9f",
   "metadata": {},
   "outputs": [],
   "source": [
    "# Script programering 8-2\n",
    "\n",
    "import random\n",
    "\n",
    "print(random.randint(0,1))"
   ]
  },
  {
   "cell_type": "code",
   "execution_count": null,
   "id": "0452433d",
   "metadata": {},
   "outputs": [],
   "source": [
    "# Script programering 8-3\n",
    "\n",
    "import random\n",
    "\n",
    "fruits = [\"apples\",\"pineapples\",\"blueberries\",\"bananas\"]\n",
    "\n",
    "print(\"I love {}!\".format(fruits[random.randint(0,(len(fruits))-1)]))"
   ]
  },
  {
   "cell_type": "code",
   "execution_count": null,
   "id": "6915b9f9",
   "metadata": {},
   "outputs": [],
   "source": [
    "# Script programering 8-4\n",
    "\n",
    "import random\n",
    "\n",
    "stringcheese = \"qwertyuiopåasdfghjklöäzxcvbnm\"\n",
    "\n",
    "print(stringcheese[random.randint(0,(len(stringcheese))-1)])\n"
   ]
  },
  {
   "cell_type": "code",
   "execution_count": null,
   "id": "cf381b3a",
   "metadata": {},
   "outputs": [
    {
     "name": "stdout",
     "output_type": "stream",
     "text": [
      "[8, 2, 8, 9, 3]\n"
     ]
    }
   ],
   "source": [
    "# Script programering 8-5\n",
    "\n",
    "import random\n",
    "\n",
    "def ran09():\n",
    "    return(random.randint(0,9))\n",
    "\n",
    "seq = []\n",
    "\n",
    "for x in range(5):\n",
    "    seq.append(ran09())\n",
    "    \n",
    "print(seq)\n"
   ]
  },
  {
   "cell_type": "code",
   "execution_count": 76,
   "id": "dd5196bd",
   "metadata": {},
   "outputs": [
    {
     "name": "stdout",
     "output_type": "stream",
     "text": [
      "True\n"
     ]
    }
   ],
   "source": [
    "# Script programering 8-6\n",
    "\n",
    "import random\n",
    "\n",
    "print(bool(random.randint(0,1)))\n",
    "\n"
   ]
  },
  {
   "cell_type": "code",
   "execution_count": 96,
   "id": "23e1d442",
   "metadata": {},
   "outputs": [
    {
     "name": "stdout",
     "output_type": "stream",
     "text": [
      "är\n"
     ]
    }
   ],
   "source": [
    "# Script programering 8-7\n",
    "\n",
    "import random\n",
    "\n",
    "sentence = \"Det här är en slumpmässig mening med flera ord\"\n",
    "\n",
    "print(sentence.split(\" \")[random.randint(0,len(sentence.split(\" \"))-1)])"
   ]
  },
  {
   "cell_type": "code",
   "execution_count": 101,
   "id": "0824d084",
   "metadata": {},
   "outputs": [
    {
     "name": "stdout",
     "output_type": "stream",
     "text": [
      "[8, 1, 9, 2, 5, 3, 7, 4, 6]\n"
     ]
    }
   ],
   "source": [
    "# Script programering 8-8\n",
    "\n",
    "import random\n",
    "\n",
    "numli = [1,2,3,4,5,6,7,8,9]\n",
    "\n",
    "random.shuffle(numli)\n",
    "print(numli)"
   ]
  },
  {
   "cell_type": "code",
   "execution_count": 119,
   "id": "338fa302",
   "metadata": {},
   "outputs": [
    {
     "name": "stdout",
     "output_type": "stream",
     "text": [
      "2022-03-15\n"
     ]
    }
   ],
   "source": [
    "# Script programering 8-9\n",
    "\n",
    "import random\n",
    "from pandas import date_range\n",
    "\n",
    "daran = date_range('2020-01-01', '2024-12-31')\n",
    "\n",
    "print(daran[random.randint(0, len(daran)-1)].date())\n"
   ]
  },
  {
   "cell_type": "code",
   "execution_count": 139,
   "id": "5c1826d5",
   "metadata": {},
   "outputs": [
    {
     "name": "stdout",
     "output_type": "stream",
     "text": [
      "cheese\n"
     ]
    }
   ],
   "source": [
    "# Script programering 8-10\n",
    "\n",
    "import random\n",
    "\n",
    "lis1 = [\"apples\", \"bread\", \"cheese\", \"carrots\", \"chicken\"]\n",
    "lis2 = [\"bananas\", \"rice\", \"yogurt\", \"tomatoes\", \"beef\"]\n",
    "lis3 = [\"pineapples\", \"pasta\", \"milk\", \"lettuce\", \"fish\"]\n",
    "\n",
    "print(random.sample((lis1+lis2+lis3),1)[0])"
   ]
  },
  {
   "cell_type": "code",
   "execution_count": 149,
   "id": "48ea964d",
   "metadata": {},
   "outputs": [
    {
     "data": {
      "text/plain": [
       "4.220338741150555"
      ]
     },
     "execution_count": 149,
     "metadata": {},
     "output_type": "execute_result"
    }
   ],
   "source": [
    "# Script programering 8-11\n",
    "\n",
    "import random\n",
    "\n",
    "random.gauss(5,1.2)"
   ]
  },
  {
   "cell_type": "code",
   "execution_count": 156,
   "id": "f29446a4",
   "metadata": {},
   "outputs": [
    {
     "name": "stdout",
     "output_type": "stream",
     "text": [
      "[4, 9, 0, 2, 1]\n"
     ]
    }
   ],
   "source": [
    "# Script programering 8-12\n",
    "\n",
    "import random\n",
    "\n",
    "lis = [0,1,2,3,4,5,6,7,8,9]\n",
    "\n",
    "print(random.sample(lis,5))"
   ]
  },
  {
   "cell_type": "code",
   "execution_count": null,
   "id": "47544689",
   "metadata": {},
   "outputs": [
    {
     "name": "stdout",
     "output_type": "stream",
     "text": [
      "3cc393\n"
     ]
    }
   ],
   "source": [
    "# Script programering 8-13\n",
    "\n",
    "import random\n",
    "\n",
    "hexrange = \"abcdef0123456789\"\n",
    "\n",
    "randhex = \"\"\n",
    "for x in range(6):\n",
    "    randhex += hexrange[random.randint(0,15)]\n",
    "    \n",
    "print(randhex)"
   ]
  },
  {
   "cell_type": "code",
   "execution_count": null,
   "id": "c57581fc",
   "metadata": {},
   "outputs": [],
   "source": [
    "# Script programering 8-14\n",
    "\n",
    "import random\n",
    "import tempfile\n",
    "\n",
    "def randints():\n",
    "    ints = \"\"\n",
    "    for x in range(99):\n",
    "        ints += str(random.randint(0,9))\n",
    "    return(ints)\n",
    "\n",
    "with open(\"randints.txt\", \"w\") as f:\n",
    "    f.write(randints())\n",
    "    \n"
   ]
  },
  {
   "cell_type": "code",
   "execution_count": null,
   "id": "48fe93c1",
   "metadata": {},
   "outputs": [],
   "source": [
    "# Script programering 8-15\n",
    "\n",
    "import random\n",
    "\n",
    "def genline():\n",
    "    ts = random.randint(1,11)\n",
    "    tempr = round(random.uniform(20, 30), 3)\n",
    "    humid = round(random.uniform(40, 60), 3)\n",
    "    return(\"{},{},{}\\n\".format(ts,tempr,humid))\n",
    "    \n",
    "with open(\"readings.csv\", \"w\") as f:\n",
    "    f.write(\"Timestamp,Temperature,Humidity\\n\")\n",
    "    for x in range(30):\n",
    "        f.write(genline())"
   ]
  }
 ],
 "metadata": {
  "kernelspec": {
   "display_name": "Python 3",
   "language": "python",
   "name": "python3"
  },
  "language_info": {
   "codemirror_mode": {
    "name": "ipython",
    "version": 3
   },
   "file_extension": ".py",
   "mimetype": "text/x-python",
   "name": "python",
   "nbconvert_exporter": "python",
   "pygments_lexer": "ipython3",
   "version": "3.13.7"
  }
 },
 "nbformat": 4,
 "nbformat_minor": 5
}
