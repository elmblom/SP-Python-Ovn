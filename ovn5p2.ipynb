{
 "cells": [
  {
   "cell_type": "code",
   "execution_count": null,
   "id": "d277ba4c",
   "metadata": {},
   "outputs": [],
   "source": [
    "# Script programering 5-14\n",
    "\n",
    "import datetime\n",
    "\n",
    "names = [\"Kalle\",\"Ville\",\"Root\",\"Per\",\"Olle\"]\n",
    "\n",
    "for i in names:\n",
    "    if i != \"Root\":\n",
    "        print(\"Hejsan {}, tack för att du logga in idag {}\".format(i,datetime.datetime.now().strftime(\"%Y-%m-%d\")))\n",
    "    else:\n",
    "        print(\"Hejsan Root, du är mastern av denna server\")\n"
   ]
  },
  {
   "cell_type": "code",
   "execution_count": null,
   "id": "bb5c9e5e",
   "metadata": {},
   "outputs": [],
   "source": [
    "# Script programering 5-15\n",
    "\n",
    "import datetime\n",
    "\n",
    "names = []\n",
    "\n",
    "if len(names) == 0:\n",
    "    print(\"Vår användar databas är tom, det är dags att sätta in andvändare\")\n",
    "    exit\n",
    "\n",
    "for i in names:\n",
    "    if i != \"Root\":\n",
    "        print(\"Hejsan {}, tack för att du logga in idag {}\".format(i,datetime.datetime.now().strftime(\"%Y-%m-%d\")))\n",
    "    else:\n",
    "        print(\"Hejsan Root, du är mastern av denna server\")\n"
   ]
  },
  {
   "cell_type": "code",
   "execution_count": null,
   "id": "84a0a774",
   "metadata": {},
   "outputs": [],
   "source": [
    "# Script programering 5-16\n",
    "\n",
    "names = [\"Elvira\",\"Robert\",\"Root\",\"Hans\",\"Irina\"]\n",
    "names2 = [\"Sam\",\"Ville\",\"Philip\",\"Evgeni\",\"Irina\"]\n",
    "\n",
    "for i in names2:\n",
    "    if i not in names:\n",
    "        print(\"Lysande, {} det finns ännu reservation för detta användar namn:)\".format(i))\n",
    "    else:\n",
    "        print(\"Sory {}, Detta namn är redan taget\".format(i))"
   ]
  },
  {
   "cell_type": "code",
   "execution_count": null,
   "id": "f3a1f33b",
   "metadata": {},
   "outputs": [],
   "source": [
    "# Script programering 5-17\n",
    "\n",
    "pizzapizza = [\"Margherita\",\"Doubble Cheese med Hot Dog Stuffed Crust\",\"Taco Bell® Mexican Pizza\",\"None Pizza with Left Beef\",\"Kyckling Kotzone\"]\n",
    "\n",
    "for i in pizzapizza:\n",
    "    print(\"Jag gillar verkiligen denna {} pizzan😋\".format(i))\n",
    "print(\"Pizza är livet! Jag älskar pizza mer än något annat, varje tugga är ren lycka! 🍕❤️\") #<-- Totalt skrivet av AI, jag skulle andrig kunna komma på någonting så cheesy."
   ]
  },
  {
   "cell_type": "code",
   "execution_count": null,
   "id": "08b5eee4",
   "metadata": {},
   "outputs": [],
   "source": [
    "# Script programering 5-18\n",
    "\n",
    "pizzapizza = [\"Margherita\",\"Doubble Cheese med Hot Dog Stuffed Crust\",\"Taco Bell® Mexican Pizza\",\"None Pizza with Left Beef\",\"Kyckling Kotzone\"]\n",
    "pizzabuddy = [\"Zuccini\",\"Aubergine\",\"Banan\",\"Squash\",\"Möglig Ost\"]\n",
    "\n",
    "print(\"Mina favoritpizzor är\")\n",
    "for i in pizzapizza:\n",
    "    print(\"{} pizza\".format(i))\n",
    "print(\"\\nMina kompis favoritpizzor är\")\n",
    "for i in pizzabuddy:\n",
    "    print(\"{} pizza\".format(i))\n"
   ]
  },
  {
   "cell_type": "code",
   "execution_count": null,
   "id": "65df26d3",
   "metadata": {},
   "outputs": [],
   "source": [
    "# Script programering 5-19\n",
    "\n",
    "menu = [\n",
    "    \"Polish Dumplings\",\n",
    "    \"Hunter's Stew\",\n",
    "    \"Sour Rye Soup\",\n",
    "    \"Cabbage Rolls\",\n",
    "    \"Potato Pancakes\",\n",
    "    \"Breaded Pork Cutlet\"\n",
    "]\n",
    "\n",
    "print(\"Menu\")\n",
    "for i in menu: \n",
    "    print(i)\n",
    "    \n",
    "menu[1] = \"Cabbage Stew\"\n",
    "menu[4] = \"Potato Casserole\"\n",
    "\n",
    "print(\"\\n\\nNew Menu\")\n",
    "for i in menu: \n",
    "    print(i)\n",
    "    "
   ]
  },
  {
   "cell_type": "code",
   "execution_count": null,
   "id": "6a70b79b",
   "metadata": {},
   "outputs": [],
   "source": [
    "# Script programering 5-20\n",
    "\n",
    "floods = {\n",
    "    \"Dinipro\": \"Ukraine\",\n",
    "    \"Mississippi\": \"USA\",\n",
    "    \"Yangtze\": \"China\",\n",
    "    \"Ganges\": \"India\",\n",
    "    \"Nile\": \"Egypt\",\n",
    "    \"Rhine\": \"Germany\"\n",
    "}\n",
    "\n",
    "for river, country in floods.items():\n",
    "    print(\"The {} river runs through {}\".format(river, country))"
   ]
  },
  {
   "cell_type": "code",
   "execution_count": null,
   "id": "e23cc89f",
   "metadata": {},
   "outputs": [],
   "source": [
    "# Script programering 5-21\n",
    "\n",
    "myfavs = [\"Paris\", \"Tokyo\", \"New York\", \"Stockholm\"]\n",
    "willefavs = [\"Berlin\", \"London\", \"Oslo\", \"Copenhagen\"]\n",
    "bossefavs = [\"Rome\", \"Madrid\", \"Prague\", \"Budapest\"]\n",
    "bofavs = [\"Sydney\", \"Toronto\", \"Amsterdam\", \"Helsinki\"]\n",
    "\n",
    "print(\"My favourite places are\")\n",
    "for i in myfavs:\n",
    "    print(i)\n",
    "    \n",
    "print(\"\\n\\nWille's favourite places are\")\n",
    "for i in willefavs:\n",
    "    print(i)\n",
    "    \n",
    "print(\"\\n\\nBosse's favourite places are\")\n",
    "for i in bossefavs:\n",
    "    print(i)\n",
    "    \n",
    "print(\"\\n\\nBo's favourite places are\")\n",
    "for i in bofavs:\n",
    "    print(i)"
   ]
  },
  {
   "cell_type": "code",
   "execution_count": null,
   "id": "22a85be9",
   "metadata": {},
   "outputs": [],
   "source": [
    "# Script programering 5-22\n",
    "\n",
    "string = \"Fnatte Springer naken ute i kyrkslätt\"\n",
    "for idx, i in enumerate(string):\n",
    "    print(idx + 1, i)\n"
   ]
  },
  {
   "cell_type": "code",
   "execution_count": null,
   "id": "0b8bedce",
   "metadata": {},
   "outputs": [],
   "source": [
    "# Script programering 5-23\n",
    "\n",
    "string = \"Fnatte Springer naken ute i kyrkslätt\"\n",
    "array = [i for i in string]\n",
    "\n",
    "i = 0\n",
    "while i < array.__len__():\n",
    "    print(\"{} {}\".format(i,array[i]))\n",
    "    i +=1"
   ]
  },
  {
   "cell_type": "code",
   "execution_count": null,
   "id": "e1375cd3",
   "metadata": {},
   "outputs": [],
   "source": [
    "# Script programering 5-24\n",
    "\n",
    "temps = input(\"Enter the values sepparated by spaces: \")\n",
    "mean = 0\n",
    "for i in temps.split():\n",
    "    mean += int(i)\n",
    "mean = mean/temps.split().__len__()\n",
    "print(\"Mean: {}\".format(mean))\n",
    "print(\"Temps Higher Than Mean\")\n",
    "for i in temps.split():\n",
    "    if int(i) > mean:\n",
    "        print(i)"
   ]
  },
  {
   "cell_type": "code",
   "execution_count": null,
   "id": "c9cdd776",
   "metadata": {},
   "outputs": [],
   "source": [
    "# Script programering 5-25\n",
    "\n",
    "peoplenums = {\n",
    "    \"Paul\":\"345676657\",\n",
    "    \"Tommen\":\"1237656\",\n",
    "    \"Lisa\":\"234789\",\n",
    "    \"Niklas\":\"666666\",\n",
    "    \"Teppo\":\"112987\"\n",
    "}\n",
    "\n",
    "for name, num in peoplenums.items():\n",
    "    print(\"{}'s number is {}\".format(name,num))"
   ]
  },
  {
   "cell_type": "code",
   "execution_count": 34,
   "id": "a963933a",
   "metadata": {},
   "outputs": [
    {
     "name": "stdout",
     "output_type": "stream",
     "text": [
      "Lisa's number is 234789\n",
      "Niklas's number is 666666\n",
      "Paul's number is 345676657\n",
      "Teppo's number is 112987\n",
      "Tommen's number is 1237656\n"
     ]
    }
   ],
   "source": [
    "# Script programering 5-26\n",
    "\n",
    "peoplenums = {\n",
    "    \"Paul\":\"345676657\",\n",
    "    \"Tommen\":\"1237656\",\n",
    "    \"Lisa\":\"234789\",\n",
    "    \"Niklas\":\"666666\",\n",
    "    \"Teppo\":\"112987\"\n",
    "}\n",
    "\n",
    "for i in sorted(peoplenums.keys()):\n",
    "    print(\"{}'s number is {}\".format(i, peoplenums[i]))"
   ]
  },
  {
   "cell_type": "code",
   "execution_count": 43,
   "id": "d0361ff0",
   "metadata": {},
   "outputs": [
    {
     "name": "stdout",
     "output_type": "stream",
     "text": [
      "01010100 01101111 01101101 01101101 01100101 01101110\n"
     ]
    }
   ],
   "source": [
    "# Script programering 5-27\n",
    "\n",
    "inp = input(\"Enter a string: \")\n",
    "inpbin = ' '.join(format(ord(char), '08b') for char in i)\n",
    "print(inpbin)\n",
    "     \n"
   ]
  },
  {
   "cell_type": "code",
   "execution_count": null,
   "id": "a475a394",
   "metadata": {},
   "outputs": [
    {
     "name": "stdout",
     "output_type": "stream",
     "text": [
      "\n",
      "Group 1:\n",
      "Hamnström Wilhelm  Oygen Suzan  Kaisla Adolf  Eerikäinen Oliver  \n",
      "Group 2:\n",
      "Kosonen Nico  Rush Marina  Lindholm Ella  Blomqvist Elmer  \n",
      "Group 3:\n",
      "Ahtiainen Emil  Kalhori Rawand  Holmström Marius  Karvonen Elias  \n",
      "Group 4:\n",
      "Pöykkö Niilo  Österberg Sebastian  Volkkila Niklas  Käsnänen Kalle  "
     ]
    }
   ],
   "source": [
    "# Script programering 5-28\n",
    "\n",
    "import random\n",
    "\n",
    "names = {\n",
    "\"Ahtiainen Emil\", \n",
    "\"Blomqvist Elmer\",\n",
    "\"Eerikäinen Oliver\",\n",
    "\"Hamnström Wilhelm\",\n",
    "\"Holmström Marius\",\n",
    "\"Kaisla Adolf\",\n",
    "\"Kalhori Rawand\",\n",
    "\"Karvonen Elias\",\n",
    "\"Kosonen Nico\",\n",
    "\"Käsnänen Kalle\",\n",
    "\"Lindholm Ella\",\n",
    "\"Oygen Suzan\",\n",
    "\"Pöykkö Niilo\",\n",
    "\"Rush Marina\",\n",
    "\"Volkkila Niklas\",\n",
    "\"Österberg Sebastian\"}\n",
    "\n",
    "groups = {}\n",
    "\n",
    "def grouping(names,size):\n",
    "    groupamount = int(len(names)/size)\n",
    "    namesr = random.sample(list(names), len(names))\n",
    "    y = 0\n",
    "    for i in range(groupamount):\n",
    "        groups[i] = {}\n",
    "        for x in range(size):\n",
    "            groups[i][x] = namesr[y]\n",
    "            y+=1\n",
    "    for i in groups:\n",
    "        print(\"\\nGroup {}:\".format(i+1))\n",
    "        for x in groups[i]:\n",
    "            print(\"{}  \".format(groups[i][x]),end=\"\")\n",
    "    \n",
    "grouping(names,4)\n",
    "    "
   ]
  },
  {
   "cell_type": "code",
   "execution_count": 10,
   "id": "4833acb0",
   "metadata": {},
   "outputs": [
    {
     "name": "stdout",
     "output_type": "stream",
     "text": [
      "[{'Name': 'alpha', 'Price': 10.0}, {'Name': 'sigma', 'Price': 11.0}]\n",
      "The cheapest card is alpha at 10.0$ a month\n"
     ]
    }
   ],
   "source": [
    "# Script programering 5-28\n",
    "\n",
    "cardarr = []\n",
    "while True:\n",
    "    cardnam = input(\"Enter the name of a card (press enter to exit): \")\n",
    "    if cardnam == \"\":\n",
    "        break\n",
    "    cardpri = float(input(\"Enter the montly fee for {}: \".format(cardnam)))\n",
    "    cardarr.append({\"Name\":cardnam, \"Price\": cardpri})\n",
    "    \n",
    "print(cardarr)\n",
    "cheapest = min(cardarr, key=lambda x: x['Price'])['Name']\n",
    "cheaprice = min(cardarr, key=lambda x: x['Price'])['Price']\n",
    "print(\"The cheapest card is {} at {}$ a month\".format(cheapest,cheaprice))"
   ]
  },
  {
   "cell_type": "code",
   "execution_count": null,
   "id": "22a919f3",
   "metadata": {},
   "outputs": [
    {
     "name": "stdout",
     "output_type": "stream",
     "text": [
      "[[1.0, 2.0, 3.0], [4.0, 5.0, 6.0], [7.0, 8.0, 9.0]]\n"
     ]
    }
   ],
   "source": [
    "# Script programering 5-29\n",
    "\n",
    "matrix = []\n",
    "while True:\n",
    "    matap = input(\"Enter numbers sepparated by commas (press enter to exit): \")\n",
    "    if len(matap) == 0:\n",
    "        break\n",
    "    else:\n",
    "        matrix.append([float(num) for num in matap.split(\",\")])\n",
    "        \n",
    "print(matrix)\n",
    "\n",
    "\n",
    "    "
   ]
  }
 ],
 "metadata": {
  "kernelspec": {
   "display_name": "Python 3",
   "language": "python",
   "name": "python3"
  },
  "language_info": {
   "codemirror_mode": {
    "name": "ipython",
    "version": 3
   },
   "file_extension": ".py",
   "mimetype": "text/x-python",
   "name": "python",
   "nbconvert_exporter": "python",
   "pygments_lexer": "ipython3",
   "version": "3.12.11"
  }
 },
 "nbformat": 4,
 "nbformat_minor": 5
}
