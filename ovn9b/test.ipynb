{
 "cells": [
  {
   "cell_type": "code",
   "execution_count": null,
   "id": "db94b382",
   "metadata": {},
   "outputs": [
    {
     "name": "stdout",
     "output_type": "stream",
     "text": [
      "0 - Loan\n",
      "1 - Return\n",
      "2 - View Account Info\n",
      "3 - Exit\n"
     ]
    }
   ],
   "source": [
    "import json\n",
    "from IPython.display import clear_output\n",
    "\n",
    "def greet():\n",
    "    print(\"Welcome! What would you like to do?\")\n",
    "    print(\"0 - Login\")\n",
    "    print(\"1 - Sign up\")\n",
    "    print(\"2 - Exit\")\n",
    "    actopt = int(input(\"Select An option By Entering It's Corresponding Number: \"))\n",
    "    if actopt == 0:\n",
    "        login()\n",
    "    elif actopt == 1:\n",
    "        signup()\n",
    "    elif actopt == 2:\n",
    "        exit\n",
    "    else:\n",
    "        print(\"Invalid Option\")\n",
    "        greet()\n",
    "    \n",
    "def actions():\n",
    "    clear_output()\n",
    "    print(\"0 - Loan\")\n",
    "    print(\"1 - Return\")\n",
    "    print(\"2 - View Account Info\")\n",
    "    print(\"3 - Exit\")\n",
    "    actopt = int(input(\"Select An option By Entering It's Corresponding Number: \"))\n",
    "    if actopt == 0:\n",
    "        loan()\n",
    "    elif actopt == 1:\n",
    "        returnmovie()\n",
    "    elif actopt == 2:\n",
    "        viewinfo()\n",
    "    elif actopt == 3:\n",
    "        exit\n",
    "    else:\n",
    "        print(\"Invalid Option\")\n",
    "        actions()\n",
    "\n",
    "def loan():\n",
    "    clear_output()\n",
    "    with open(\"./movies.json\", \"r\") as f:\n",
    "        data = json.load(f)   \n",
    "    print(\"Available Titles:\")\n",
    "    i = 0\n",
    "    for x in data:\n",
    "        if x[\"Available\"] == 1:\n",
    "            print(\"{} - {}\".format(i,x[\"Title\"]))\n",
    "            i+=1      \n",
    "    usel = int(input(\"Choose A Title By Entering It's Corresponding Number: \"))\n",
    "\n",
    "\n"
   ]
  }
 ],
 "metadata": {
  "kernelspec": {
   "display_name": "Python 3",
   "language": "python",
   "name": "python3"
  },
  "language_info": {
   "codemirror_mode": {
    "name": "ipython",
    "version": 3
   },
   "file_extension": ".py",
   "mimetype": "text/x-python",
   "name": "python",
   "nbconvert_exporter": "python",
   "pygments_lexer": "ipython3",
   "version": "3.13.7"
  }
 },
 "nbformat": 4,
 "nbformat_minor": 5
}
