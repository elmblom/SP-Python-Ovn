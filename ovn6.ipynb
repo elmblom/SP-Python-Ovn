{
 "cells": [
  {
   "cell_type": "code",
   "execution_count": null,
   "id": "18c6e252",
   "metadata": {},
   "outputs": [],
   "source": [
    "# Script programering 6-1\n",
    "\n",
    "print(open(\"/ovn6.ipynb\").read())"
   ]
  },
  {
   "cell_type": "code",
   "execution_count": null,
   "id": "591c4cec",
   "metadata": {},
   "outputs": [],
   "source": [
    "# Script programering 6-2\n",
    "\n",
    "f = open(\"./ovn6.ipynb\", \"r\")\n",
    "content = f.read()\n",
    "f.close()\n",
    "content = \"\\n\".join(content.split(\"\\n\")[:8])\n",
    "print(content)\n",
    "    "
   ]
  },
  {
   "cell_type": "code",
   "execution_count": null,
   "id": "add99228",
   "metadata": {},
   "outputs": [],
   "source": [
    "# Script programering 6-3\n",
    "\n",
    "import tempfile\n",
    "\n",
    "with tempfile.SpooledTemporaryFile(mode=\"w+t\", max_size=10240) as tmp:\n",
    "    tmp.write(\"Hello World!\")\n",
    "    tmp.seek(0)\n",
    "    print(tmp.read())"
   ]
  },
  {
   "cell_type": "code",
   "execution_count": null,
   "id": "3ac3555f",
   "metadata": {},
   "outputs": [],
   "source": [
    "# Script programering 6-4\n",
    "\n",
    "f = open(\"./ovn6.ipynb\", \"r\")\n",
    "content = f.read()\n",
    "f.close()\n",
    "content = \"\\n\".join(content.split(\"\\n\")[-8:])\n",
    "print(content)\n",
    "    "
   ]
  },
  {
   "cell_type": "code",
   "execution_count": null,
   "id": "f277325b",
   "metadata": {},
   "outputs": [],
   "source": [
    "# Script programering 6-5\n",
    "\n",
    "f = open(\"./ovn6.ipynb\", \"r\")\n",
    "content = f.read()\n",
    "f.close()\n",
    "contlist = []\n",
    "for x in content.split(\"\\n\"):\n",
    "    contlist.append(x)\n",
    "    \n",
    "for x in contlist:\n",
    "    print(x)\n",
    "    \n",
    "    "
   ]
  },
  {
   "cell_type": "code",
   "execution_count": null,
   "id": "c7a17fd2",
   "metadata": {},
   "outputs": [],
   "source": [
    "# Script programering 6-6\n",
    "\n",
    "f = open(\"./ovn6.ipynb\", \"r\")\n",
    "content = f.read()\n",
    "f.close()\n",
    "contlist = \"\"\n",
    "for x in content.split(\"\\n\"):\n",
    "    contlist += (x)\n",
    "    \n",
    "print(contlist)"
   ]
  },
  {
   "cell_type": "code",
   "execution_count": null,
   "id": "0400103b",
   "metadata": {},
   "outputs": [],
   "source": [
    "# Script programering 6-7\n",
    "\n",
    "f = open(\"./ovn6.ipynb\", \"r\")\n",
    "content = f.read()\n",
    "f.close()\n",
    "contlist = []\n",
    "for x in content.split(\"\\n\"):\n",
    "    contlist.append(x)\n",
    "    \n",
    "print(contlist)"
   ]
  },
  {
   "cell_type": "code",
   "execution_count": null,
   "id": "940dbc4e",
   "metadata": {},
   "outputs": [],
   "source": [
    "# Script programering 6-8\n",
    "\n",
    "f = open(\"./ovn6.ipynb\", \"r\")\n",
    "content = f.read()\n",
    "f.close()\n",
    "contlist = []\n",
    "for x in content.split(\" \"):\n",
    "    contlist.append(x)\n",
    "\n",
    "print('the three longest \"words\" are:')\n",
    "\n",
    "contlist = sorted(contlist, key=len, reverse=True)\n",
    "for x in contlist[:3]:\n",
    "    print(x)\n",
    "        "
   ]
  },
  {
   "cell_type": "code",
   "execution_count": null,
   "id": "c49c29d5",
   "metadata": {},
   "outputs": [],
   "source": [
    "# Script programering 6-9\n",
    "\n",
    "f = open(\"./ovn6.ipynb\", \"r\")\n",
    "content = f.read()\n",
    "f.close()\n",
    "y = 0\n",
    "for x in content.split(\"\\n\"):\n",
    "    y+=1\n",
    "    \n",
    "    \n",
    "print(\"The file has {} lines\".format(y))"
   ]
  },
  {
   "cell_type": "code",
   "execution_count": null,
   "id": "c236c01a",
   "metadata": {},
   "outputs": [],
   "source": [
    "# Script programering 6-10\n",
    "\n",
    "# pip install requests\n",
    "\n",
    "import requests\n",
    "\n",
    "url = \"https://gist.githubusercontent.com/EdwardRayl/3436572afde8ce9e3faf5b7b95356a49/raw/6b25895fce480713560829dec31ac8220ffe5272/gists.txt\"\n",
    "response = requests.get(url)\n",
    "content = response.text\n",
    "contdict = {}\n",
    "for x in content.split(\" \"):\n",
    "    if x in contdict:\n",
    "        contdict[x] += 1\n",
    "    else:\n",
    "        contdict[x] = 1\n",
    "        \n",
    "contdict = sorted( contdict.items(), key=lambda item: item[1], reverse=True)\n",
    "\n",
    "print(contdict)\n",
    "    "
   ]
  },
  {
   "cell_type": "code",
   "execution_count": null,
   "id": "8462baa8",
   "metadata": {},
   "outputs": [],
   "source": [
    "# Script programering 6-11\n",
    "\n",
    "import os\n",
    "\n",
    "size = os.path.getsize(\"./ovn6.ipynb\")\n",
    "\n",
    "print(size)\n"
   ]
  },
  {
   "cell_type": "code",
   "execution_count": null,
   "id": "9d6838f1",
   "metadata": {},
   "outputs": [],
   "source": [
    "# Script programering 6-12\n",
    "\n",
    "import tempfile\n",
    "\n",
    "lis = [\"apple\", \"banana\", \"passion fruit\"]\n",
    "\n",
    "with tempfile.SpooledTemporaryFile(mode=\"w+t\", max_size=10240) as tmp:\n",
    "    for x in lis:\n",
    "        tmp.write(\"{}\\n\".format(x))\n",
    "    tmp.seek(0)\n",
    "    print(tmp.read())"
   ]
  },
  {
   "cell_type": "code",
   "execution_count": null,
   "id": "98f35d4f",
   "metadata": {},
   "outputs": [],
   "source": [
    "# Script programering 6-13\n",
    "\n",
    "import tempfile\n",
    "\n",
    "with tempfile.SpooledTemporaryFile(mode=\"w+t\", max_size=10240) as tmp:\n",
    "    tmp.write(\"Hello World!\")\n",
    "    tmp.seek(0)\n",
    "    copy = tmp.read()\n",
    "    \n",
    "with tempfile.SpooledTemporaryFile(mode=\"w+t\", max_size=10240) as tmp:\n",
    "    tmp.write(copy)\n",
    "    tmp.seek(0)\n",
    "    print(tmp.read())"
   ]
  },
  {
   "cell_type": "code",
   "execution_count": null,
   "id": "83d184ab",
   "metadata": {},
   "outputs": [],
   "source": [
    "# Script programering 6-14\n",
    "\n",
    "import tempfile\n",
    "\n",
    "with tempfile.SpooledTemporaryFile(mode=\"w+t\", max_size=10240) as tmp1:\n",
    "    with tempfile.SpooledTemporaryFile(mode=\"w+t\", max_size=10240) as tmp2:\n",
    "        with tempfile.SpooledTemporaryFile(mode=\"w+t\", max_size=10240) as tmp3:\n",
    "            tmp1.write(\"The quick\\nover the\\nruns through\\nchasing after\\nthe warm\")\n",
    "            tmp2.write(\"brown fox jumps\\nlazy dog and\\nthe bright meadow\\nbutterflies under\\nsummer sun.\")\n",
    "            tmp1.seek(0)\n",
    "            tmp2.seek(0)\n",
    "            \n",
    "            lines1 = tmp1.read().split(\"\\n\")\n",
    "            lines2 = tmp2.read().split(\"\\n\")\n",
    "            max_len = max(len(lines1), len(lines2))\n",
    "            for i in range(max_len):\n",
    "                if i < len(lines1):\n",
    "                    tmp3.write(lines1[i]+\" \")\n",
    "                if i < len(lines2):\n",
    "                    tmp3.write(lines2[i]+\" \")\n",
    "            tmp3.seek(0)\n",
    "            print(tmp3.read())\n"
   ]
  },
  {
   "cell_type": "code",
   "execution_count": null,
   "id": "b95b1cda",
   "metadata": {},
   "outputs": [],
   "source": [
    "# Script programering 6-15\n",
    "\n",
    "# pip install requests\n",
    "\n",
    "import requests\n",
    "import random\n",
    "\n",
    "url = \"https://gist.githubusercontent.com/EdwardRayl/3436572afde8ce9e3faf5b7b95356a49/raw/6b25895fce480713560829dec31ac8220ffe5272/gists.txt\"\n",
    "response = requests.get(url)\n",
    "content = response.text\n",
    "y = 0\n",
    "for x in content.split(\"\\n\"):\n",
    "    y+=1\n",
    "    \n",
    "randrow = random.randrange(0,y)\n",
    "\n",
    "print(content.split(\"\\n\")[randrow])\n"
   ]
  },
  {
   "cell_type": "code",
   "execution_count": null,
   "id": "4fa100f2",
   "metadata": {},
   "outputs": [],
   "source": [
    "# Script programering 6-16\n",
    "\n",
    "import random\n",
    "\n",
    "f.close()\n",
    "\n",
    "if random.randint(0,1) == 1:\n",
    "    f = open(\"./ovn6.ipynb\")\n",
    "try:\n",
    "    f.readable()\n",
    "    print(\"The file is open\")\n",
    "except Exception as e:\n",
    "    print(\"The file is not open\")"
   ]
  },
  {
   "cell_type": "code",
   "execution_count": null,
   "id": "d8a048e6",
   "metadata": {},
   "outputs": [],
   "source": [
    "# Script programering 6-17\n",
    "\n",
    "f = open(\"./ovn6.ipynb\", \"r\")\n",
    "content = f.read()\n",
    "f.close()\n",
    "file = content.replace(\"\\n\",\"\")\n",
    "\n",
    "print(file)\n",
    "        "
   ]
  },
  {
   "cell_type": "code",
   "execution_count": null,
   "id": "867fcae7",
   "metadata": {},
   "outputs": [],
   "source": [
    "# Script programering 6-18\n",
    "\n",
    "import re\n",
    "\n",
    "f = open(\"./ovn6.ipynb\", \"r\")\n",
    "content = f.read()\n",
    "f.close()\n",
    "contlist = []\n",
    "contlist = re.split(r'\\W+', content)\n",
    "contlist = [w for w in contlist if w]\n",
    "\n",
    "print(\"The file has about {} words\".format(contlist.__len__()))\n",
    "        "
   ]
  },
  {
   "cell_type": "code",
   "execution_count": null,
   "id": "7ce5ea28",
   "metadata": {},
   "outputs": [],
   "source": [
    "# Script programering 6-19\n",
    "\n",
    "# pip install requests\n",
    "\n",
    "import requests\n",
    "\n",
    "url = \"https://gist.githubusercontent.com/EdwardRayl/3436572afde8ce9e3faf5b7b95356a49/raw/6b25895fce480713560829dec31ac8220ffe5272/gists.txt\"\n",
    "response = requests.get(url)\n",
    "content = response.text\n",
    "contdict = []\n",
    "for x in content:\n",
    "    contdict.append(x)\n",
    "        \n",
    "f = open(\"./ovn6.ipynb\", \"r\")\n",
    "content = f.read()\n",
    "f.close()\n",
    "for x in content:\n",
    "    contdict.append(x)\n",
    "\n",
    "print(contdict)\n",
    "    "
   ]
  },
  {
   "cell_type": "code",
   "execution_count": null,
   "id": "a8faa049",
   "metadata": {},
   "outputs": [],
   "source": [
    "# Script programering 6-20\n",
    "\n",
    "import os\n",
    "\n",
    "y = \"\"\n",
    "for x in range(97, 123):\n",
    "    y += chr(x)\n",
    "\n",
    "os.mkdir(\"./letterfiles\")\n",
    "for x in y:\n",
    "    f = open(\"./letterfiles/{}.txt\".format(x), \"x\")"
   ]
  },
  {
   "cell_type": "code",
   "execution_count": null,
   "id": "04b77c12",
   "metadata": {},
   "outputs": [],
   "source": [
    "# Script programering 6-21\n",
    "\n",
    "import tempfile\n",
    "\n",
    "amount = int(input(\"How many times do you want the letters to appear?: \"))\n",
    "\n",
    "with tempfile.SpooledTemporaryFile(mode=\"w+t\", max_size=10240) as tmp:\n",
    "    for x in range(97, 123):\n",
    "        y=0\n",
    "        while y < amount:\n",
    "            tmp.write(chr(x))\n",
    "            y+=1\n",
    "        tmp.write(\"\\n\")\n",
    "    tmp.seek(0)\n",
    "    print(tmp.read())"
   ]
  }
 ],
 "metadata": {
  "kernelspec": {
   "display_name": "Python 3",
   "language": "python",
   "name": "python3"
  },
  "language_info": {
   "codemirror_mode": {
    "name": "ipython",
    "version": 3
   },
   "file_extension": ".py",
   "mimetype": "text/x-python",
   "name": "python",
   "nbconvert_exporter": "python",
   "pygments_lexer": "ipython3",
   "version": "3.13.7"
  }
 },
 "nbformat": 4,
 "nbformat_minor": 5
}
