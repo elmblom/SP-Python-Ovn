{
 "cells": [
  {
   "cell_type": "code",
   "execution_count": 17,
   "id": "35b951fd",
   "metadata": {},
   "outputs": [
    {
     "name": "stdout",
     "output_type": "stream",
     "text": [
      "['abba', 'bo', 'cecilia', 'david', 'mats', 'paul', 'sam']\n",
      " The list has 7 names in it.\n",
      "['abba', 'bo', 'cecilia', 'david', 'mats', 'paul', 'sam', 'anna', 'bob', 'cessi', 'dniel', 'eva', 'peter', 'sara']\n",
      " The combined list has 14 names in it.\n"
     ]
    }
   ],
   "source": [
    "# Script programering 4-1\n",
    "\n",
    "list1 = [\"abba\", \"bo\", \"cecilia\", \"david\", \"mats\", \"paul\", \"sam\"]\n",
    "list2 = [\"anna\", \"bob\", \"cessi\", \"dniel\", \"eva\", \"peter\", \"sara\"]\n",
    "list3 = list1 + list2\n",
    "\n",
    "nameinput = (input(\"Enter a name: \"))\n",
    "\n",
    "if nameinput in list1:\n",
    "    remove = input(f\"{nameinput} is in the list, would you like to remove it? Y/N \")\n",
    "    if remove.lower() in [\"y\", \"1\", \"true\", \"yes\"]:\n",
    "        list1.remove(nameinput)\n",
    "    else:\n",
    "        print(\"No changes made to the list.\")\n",
    "else:\n",
    "    add = input(f\"{nameinput} is not in the list, would you like to add it? Y/N \")\n",
    "    if add.lower() in [\"y\", \"1\", \"true\", \"yes\"]:\n",
    "        list1.append(nameinput)\n",
    "\n",
    "print(list1)\n",
    "print(\" The list has\", len(list1), \"names in it.\")\n",
    "print(list3)\n",
    "print(\" The combined list has\", len(list3), \"names in it.\")"
   ]
  },
  {
   "cell_type": "code",
   "execution_count": null,
   "id": "ba631f65",
   "metadata": {},
   "outputs": [
    {
     "name": "stdout",
     "output_type": "stream",
     "text": [
      "[-1.5, -1.7, -1.9, -2.1, -2.3, -2.5] \n",
      " [9, 4, -1, -6] \n",
      " [6, 10, 14, 18, 22]\n"
     ]
    }
   ],
   "source": [
    "# Script programering 4-2\n",
    "\n",
    "list1 = [x*4+6 for x in range(5)]\n",
    "\n",
    "print(list1)\n",
    "\n",
    "list2 = [9-x*5 for x in range(4)]\n",
    "\n",
    "print(list2)\n",
    "\n",
    "list3 = [-1.5-x*0.2 for x in range(6)]\n",
    "\n",
    "print(list3)"
   ]
  },
  {
   "cell_type": "code",
   "execution_count": 6,
   "id": "515c35b2",
   "metadata": {},
   "outputs": [
    {
     "name": "stdout",
     "output_type": "stream",
     "text": [
      "The file extension is: .png\n"
     ]
    }
   ],
   "source": [
    "# Script programering 4-3\n",
    "\n",
    "file = input(\"Enter a filepath (include file extension!!!)\")\n",
    "if \".\" in file:\n",
    "    extension = file.split(\".\")[-1]\n",
    "    print(\"The file extension is: .{}\".format(extension))\n",
    "else:\n",
    "    print(\"The file has no extension\")\n",
    "    exit"
   ]
  },
  {
   "cell_type": "code",
   "execution_count": 9,
   "id": "9798c2e0",
   "metadata": {},
   "outputs": [
    {
     "name": "stdout",
     "output_type": "stream",
     "text": [
      "Heres you list of names:  ['a']\n",
      "Heres your list of numbers:  ['1', '2', '2', '3', '4']\n",
      "Heres your sorted list of numbers:  None\n"
     ]
    }
   ],
   "source": [
    "# Script programering 4-4\n",
    "\n",
    "names = input(\"Enter names sepparated by spaces\")\n",
    "\n",
    "namelist = names.split(\" \")\n",
    "\n",
    "print(\"Heres you list of names: \",namelist)\n",
    "\n",
    "numbers = input(\"Enter some numbers sepparated by spaces\")\n",
    "\n",
    "numlist = numbers.split(\" \")\n",
    "numlistsort = numlist.sort()\n",
    "\n",
    "print(\"Heres your list of numbers: \",numlist)\n",
    "print(\"Heres your sorted list of numbers: \",numlistsort)\n"
   ]
  },
  {
   "cell_type": "code",
   "execution_count": 13,
   "id": "5694899b",
   "metadata": {},
   "outputs": [
    {
     "name": "stdout",
     "output_type": "stream",
     "text": [
      "Month:  11\n",
      "Day:  07\n",
      "Year:  XX07\n",
      "Last Four:  123X\n"
     ]
    }
   ],
   "source": [
    "# Script programering 4-5\n",
    "\n",
    "PN = input(\"Enter your SSN(MMDDYY-XXXX): \")\n",
    "\n",
    "dates = PN.split(\"-\")[0]\n",
    "last4 = PN.split(\"-\")[1]\n",
    "month = dates[:2]\n",
    "day = dates[2:4]\n",
    "year = dates[4:]\n",
    "if len(year) == 2:\n",
    "    year = \"XX\" + year\n",
    "print(\"Month: \",month)\n",
    "print(\"Day: \",day)\n",
    "print(\"Year: \",year)\n",
    "print(\"Last Four: \",last4)\n"
   ]
  },
  {
   "cell_type": "code",
   "execution_count": 23,
   "id": "a2971a4b",
   "metadata": {},
   "outputs": [
    {
     "name": "stdout",
     "output_type": "stream",
     "text": [
      "['3.5', '8.8', '13', '7.2', '6.5']\n",
      "The median is  7.2\n"
     ]
    }
   ],
   "source": [
    "# Script programering 4-6\n",
    "\n",
    "decimals = input(\"Input a list of decimals sepparated by spaces\")\n",
    "decimalarray = decimals.split(\" \")\n",
    "print(decimalarray)\n",
    "\n",
    "decimal_floats = [float(x) for x in decimalarray]\n",
    "decimal_floats.sort()\n",
    "\n",
    "if len(decimal_floats) % 2 == 0:\n",
    "    median = (decimal_floats[len(decimal_floats)//2 - 1] + decimal_floats[len(decimal_floats)//2]) / 2\n",
    "else:\n",
    "    median = decimal_floats[len(decimal_floats)//2]\n",
    "\n",
    "print(\"The median is \",median)"
   ]
  },
  {
   "cell_type": "code",
   "execution_count": null,
   "id": "4f4ded3f",
   "metadata": {},
   "outputs": [
    {
     "name": "stdout",
     "output_type": "stream",
     "text": [
      "Correct!\n",
      "Correct!\n",
      "Correct!\n",
      "Correct!\n",
      "Correct!\n",
      "Correct!\n",
      "Correct!\n",
      "Correct!\n",
      "Correct!\n",
      "Correct!\n",
      "You got 10/10 correct\n"
     ]
    }
   ],
   "source": [
    "# Script programering 4-7\n",
    "\n",
    "import random\n",
    "\n",
    "numbers = [x for x in range(1, 11)]\n",
    "random.shuffle(numbers)\n",
    "\n",
    "points = 0\n",
    "\n",
    "for x in numbers:\n",
    "    answ = x * 7\n",
    "    useransw = int(input(\"{}*7=\".format(x)))\n",
    "    if useransw == answ:\n",
    "        print(\"Correct!\")\n",
    "        points += 1\n",
    "    else:\n",
    "        print(\"Incorrect!\")\n",
    "        \n",
    "print(\"You got {}/10 correct\".format(points))\n",
    "if points >= 8:\n",
    "    print(\"Well done!\")\n",
    "elif points >= 5:\n",
    "    print(\"It's seriously not that hard\")\n",
    "else:\n",
    "    print(\"How dumb are you?\")\n",
    "        "
   ]
  }
 ],
 "metadata": {
  "kernelspec": {
   "display_name": "Python 3 (ipykernel)",
   "language": "python",
   "name": "python3"
  },
  "language_info": {
   "codemirror_mode": {
    "name": "ipython",
    "version": 3
   },
   "file_extension": ".py",
   "mimetype": "text/x-python",
   "name": "python",
   "nbconvert_exporter": "python",
   "pygments_lexer": "ipython3",
   "version": "3.13.7"
  }
 },
 "nbformat": 4,
 "nbformat_minor": 5
}
