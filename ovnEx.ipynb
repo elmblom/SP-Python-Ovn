{
 "cells": [
  {
   "cell_type": "code",
   "execution_count": null,
   "id": "9c394a76",
   "metadata": {},
   "outputs": [
    {
     "name": "stdout",
     "output_type": "stream",
     "text": [
      "Sverige är 2 timmar framför UTC\n",
      "Finland är 3 timmar framför UTC\n",
      "Japan är -9 timmar bakom UTC\n",
      "Afganistan är 4 timmar och 30 minuter framför UTC\n",
      "['Sverige', 'Finland', 'Japan', 'Afganistan', 17, -9, 2, 'UTC +2:00', 'UTC +3:00', 'UTC -9:00', 'UTC +4:30']\n"
     ]
    }
   ],
   "source": [
    "lst1 = [\"Sverige\", \"Finland\", \"Japan\", \"Afganistan\"]\n",
    "lst2 = [17, -9, 2]\n",
    "lst3 = [\"UTC +2:00\", \"UTC +3:00\", \"UTC +9:00\", \"UTC +4:30\" ]\n",
    "lst4 = lst1 + lst2 + lst3\n",
    "\n",
    "lst3split = [x.split(\"UTC \")[-1] for x in lst3]\n",
    "lst3 = [int(x.split(\":\")[0]) for x in lst3split]\n",
    "lst3min = [int(x.split(\":\")[1]) for x in lst3split]\n",
    "\n",
    "for x, y, z in zip(lst3, lst1, lst3min):\n",
    "    if x > 0:\n",
    "        if z == 0:\n",
    "            print(\"{} är {} timmar framför UTC\".format(y, x))\n",
    "        else:\n",
    "            print(\"{} är {} timmar och {} minuter framför UTC\".format(y, x, z))\n",
    "    else:\n",
    "        if z == 0:\n",
    "            print(\"{} är {} timmar bakom UTC\".format(y, x))\n",
    "        else:\n",
    "            print(\"{} är {} timmar och {} minuter bakom UTC\".format(y, x, z))\n",
    "\n",
    "print(lst4)"
   ]
  }
 ],
 "metadata": {
  "kernelspec": {
   "display_name": "Python 3 (ipykernel)",
   "language": "python",
   "name": "python3"
  },
  "language_info": {
   "codemirror_mode": {
    "name": "ipython",
    "version": 3
   },
   "file_extension": ".py",
   "mimetype": "text/x-python",
   "name": "python",
   "nbconvert_exporter": "python",
   "pygments_lexer": "ipython3",
   "version": "3.13.7"
  }
 },
 "nbformat": 4,
 "nbformat_minor": 5
}
