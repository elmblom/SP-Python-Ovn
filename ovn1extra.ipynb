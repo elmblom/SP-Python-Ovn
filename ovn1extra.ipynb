{
 "cells": [
  {
   "cell_type": "code",
   "execution_count": null,
   "id": "1269bc22",
   "metadata": {},
   "outputs": [],
   "source": [
    "# Script programering 1e-1\n",
    "\n",
    "num1 = float(input(\"Enter the first number: \"))\n",
    "num2 = float(input(\"Enter the second number: \"))\n",
    "\n",
    "if num1 > num2:\n",
    "    print(\"{} is greater than {}\".format(num1, num2))\n",
    "elif num1 < num2:\n",
    "    print(\"{} is less than {}\".format(num1, num2))\n",
    "else:\n",
    "    print(\"{} is equal to {}\".format(num1, num2))\n",
    "    \n",
    "    "
   ]
  },
  {
   "cell_type": "code",
   "execution_count": 13,
   "id": "229efd57",
   "metadata": {},
   "outputs": [
    {
     "name": "stdout",
     "output_type": "stream",
     "text": [
      "-4.0 F °\n"
     ]
    }
   ],
   "source": [
    "# Script programering 1e-2\n",
    "\n",
    "temp = str(input(\"Enter a temperature in C or F, add C or F to the end to indicate the unit: \"))\n",
    "temp = temp.lower() \n",
    "\n",
    "if \"f\" in temp and \"c\" in temp:\n",
    "    exit()\n",
    "if \"f\" in temp:\n",
    "    unit = \"F\"\n",
    "elif \"c\" in temp:\n",
    "    unit = \"C\"\n",
    "     \n",
    "temp = temp.replace(\" \", \"\").replace(\"c\", \"\").replace(\"f\", \"\")\n",
    "\n",
    "temp = float(temp)\n",
    "\n",
    "if unit == \"F\":\n",
    "    temp = (temp-32)*5/9\n",
    "else:\n",
    "    temp = (temp * 9/5) +32\n",
    "\n",
    "temp = round(temp,1)\n",
    "\n",
    "if unit == \"F\":\n",
    "    unitreverse = \"C\"\n",
    "else:\n",
    "    unitreverse = \"F\"\n",
    "\n",
    "print(temp,unitreverse,\"°\")"
   ]
  },
  {
   "cell_type": "code",
   "execution_count": 63,
   "id": "d7f579f2",
   "metadata": {},
   "outputs": [
    {
     "name": "stdout",
     "output_type": "stream",
     "text": [
      "False False True\n",
      "Mybool is:  False\n"
     ]
    }
   ],
   "source": [
    "# Script programering 1e-3\n",
    "\n",
    "import random\n",
    "\n",
    "mybool = bool\n",
    "\n",
    "a = bool(random.randint(1, 2) == 1)\n",
    "b = bool(random.randint(1, 2) == 1)\n",
    "c = bool(random.randint(1, 2) == 1)\n",
    "\n",
    "print(a,b,c)\n",
    "\n",
    "if a | b == True:\n",
    "    mybool = True\n",
    "if a and b and c == True or a and b and c == False:\n",
    "    mybool = True\n",
    "else:\n",
    "    mybool = False\n",
    "    \n",
    "print(\"Mybool is: \",mybool)"
   ]
  },
  {
   "cell_type": "code",
   "execution_count": 64,
   "id": "18dc9e1c",
   "metadata": {},
   "outputs": [
    {
     "name": "stdout",
     "output_type": "stream",
     "text": [
      "2 hours and 2 minutes\n"
     ]
    }
   ],
   "source": [
    "# Script programering 1e-4\n",
    "\n",
    "minutes = int(input(\"Enter the amount of minutes: \"))\n",
    "hours = 0\n",
    "\n",
    "while True:\n",
    "    if minutes - 60 > 0:\n",
    "        minutes -= 60\n",
    "        hours += 1\n",
    "    else:\n",
    "        break\n",
    "\n",
    "print(\"{} hours and {} minutes\".format(hours,minutes))\n",
    "    "
   ]
  },
  {
   "cell_type": "code",
   "execution_count": null,
   "id": "230c59d4",
   "metadata": {},
   "outputs": [
    {
     "name": "stdout",
     "output_type": "stream",
     "text": [
      "Invoice\n",
      "-----------\n",
      "apple 10.0€\n",
      "banana 15.0€\n",
      "Home Delivery Fee: 3.00€\n",
      "Total: 28.0€\n",
      "\n"
     ]
    }
   ],
   "source": [
    "# Script programering 1e-5\n",
    "\n",
    "products = []\n",
    "\n",
    "while True:\n",
    "    product = str(input(\"Enter a product name or press enter to exit: \"))\n",
    "    if product == \"\":\n",
    "        break\n",
    "    price = float(input(\"Enter the price of \\\"{}\\\"\".format(product)))\n",
    "    products.append({'product': product, 'price': price})\n",
    "    \n",
    "homedelivery = bool(input(\"Home delivery? 0=no/1=yes\"))\n",
    "\n",
    "invoice  = f\"Invoice\\n\"\n",
    "invoice += f\"-----------\\n\"\n",
    "\n",
    "for x in products:\n",
    "    invoice += f\"{x['product']} {x['price']}€\\n\"\n",
    "    \n",
    "if homedelivery == True:\n",
    "    invoice += f\"Home Delivery Fee: 3.00€\\n\"\n",
    "    \n",
    "total_price = sum(item['price'] for item in products) + 3\n",
    "invoice += f\"Total: {total_price}€\\n\"    \n",
    "\n",
    "\n",
    "    \n",
    "\n",
    "print(invoice)\n",
    "\n"
   ]
  }
 ],
 "metadata": {
  "kernelspec": {
   "display_name": "base",
   "language": "python",
   "name": "python3"
  },
  "language_info": {
   "codemirror_mode": {
    "name": "ipython",
    "version": 3
   },
   "file_extension": ".py",
   "mimetype": "text/x-python",
   "name": "python",
   "nbconvert_exporter": "python",
   "pygments_lexer": "ipython3",
   "version": "3.13.5"
  }
 },
 "nbformat": 4,
 "nbformat_minor": 5
}
