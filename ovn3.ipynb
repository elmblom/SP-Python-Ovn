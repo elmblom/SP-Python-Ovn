{
 "cells": [
  {
   "cell_type": "code",
   "execution_count": 14,
   "id": "d651ce60",
   "metadata": {},
   "outputs": [
    {
     "name": "stdout",
     "output_type": "stream",
     "text": [
      "124\n"
     ]
    }
   ],
   "source": [
    "# Script programering 3-1\n",
    "\n",
    "paul = \"Paul han jobbar nu förtiden som Frontdeveloper och Paul förtjänar stora pengar med sitt nya Jobb, och han supertrivs med det\"\n",
    "lenght = len(paul)\n",
    "\n",
    "print(lenght)"
   ]
  },
  {
   "cell_type": "code",
   "execution_count": 15,
   "id": "66ee45e3",
   "metadata": {},
   "outputs": [
    {
     "name": "stdout",
     "output_type": "stream",
     "text": [
      "Paul är FrontEnddeveloper & musiker han tycker om att spela Guitar i allhögsta grad\n"
     ]
    }
   ],
   "source": [
    "# Script programering 3-2\n",
    "\n",
    "paul = \"/*Paul är FrontEnd@developer & musiker $ _ han tycker om att spela Guitar i allhögsta grad\\n\"\n",
    "\n",
    "notallowed = ['!', '\"', '#', '$', '%', \"'\", '(', ')', '*', '+', ',', '-', '.', '/',\n",
    "':', ';', '<', '=', '>', '?', '@', '[', '\\\\', ']', '^', '_', '`', '{', '|',\n",
    "'}', '~', '\\t', '\\n', '\\r', '\\x0b', '\\x0c']\n",
    "\n",
    "for x in notallowed:\n",
    "    paul = paul.replace(x,\"\")\n",
    "\n",
    "while \"  \" in paul:\n",
    "    paul = paul.replace(\"  \",\" \")\n",
    "\n",
    "print(paul)"
   ]
  },
  {
   "cell_type": "code",
   "execution_count": 16,
   "id": "91f1cfa2",
   "metadata": {},
   "outputs": [
    {
     "name": "stdout",
     "output_type": "stream",
     "text": [
      "['Sablars', 'väder,', 'när', 'det', 'skall', 'regna', ',', 'precis', 'hela', 'tiden']\n"
     ]
    }
   ],
   "source": [
    "# Script programering 3-3\n",
    "\n",
    "sting = \"Sablars väder, när det skall regna , precis hela tiden \"\n",
    "\n",
    "words = sting.split()\n",
    "\n",
    "print (words)"
   ]
  },
  {
   "cell_type": "code",
   "execution_count": 18,
   "id": "cc9a5231",
   "metadata": {},
   "outputs": [
    {
     "name": "stdout",
     "output_type": "stream",
     "text": [
      "The string has 49 characters\n",
      "Idag*var*det*roligt*att*ha*tommens*timmar*igen*:)\n",
      "Idag*var*det*roligt*att*ha*tommens*timmar*igen*:)\n",
      "Idag*var*det*roligt*att*ha*tommens*timmar*igen*:)\n",
      "Idag*var*det*roligt*att*ha*tommens*timmar*igen*:)\n",
      "Idag*var*det*roligt*att*ha*tommens*timmar*igen*:)\n",
      "Idag*var*det*roligt*att*ha*tommens*timmar*igen*:)\n",
      "Idag*var*det*roligt*att*ha*tommens*timmar*igen*:)\n",
      "Idag*var*det*roligt*att*ha*tommens*timmar*igen*:)\n",
      "Idag*var*det*roligt*att*ha*tommens*timmar*igen*:)\n",
      "Idag*var*det*roligt*att*ha*tommens*timmar*igen*:)\n"
     ]
    }
   ],
   "source": [
    "# Script programering 3-4\n",
    "\n",
    "string = \"Idag var det roligt att ha tommens timmar igen :)\"\n",
    "\n",
    "lenght = len(string)\n",
    "\n",
    "print(\"The string has {} characters\".format(lenght))\n",
    "\n",
    "newstring = string.replace(\" \",\"*\")\n",
    "\n",
    "print(newstring)\n",
    "print(newstring)\n",
    "print(newstring)\n",
    "print(newstring)\n",
    "print(newstring)\n",
    "print(newstring)\n",
    "print(newstring)\n",
    "print(newstring)\n",
    "print(newstring)\n",
    "print(newstring)\n"
   ]
  },
  {
   "cell_type": "code",
   "execution_count": null,
   "id": "83254381",
   "metadata": {},
   "outputs": [
    {
     "name": "stdout",
     "output_type": "stream",
     "text": [
      "Led Elmer Winston ,  Blomqvist\n"
     ]
    }
   ],
   "source": [
    "# Script programering 3-5\n",
    "\n",
    "namstring = str(input(\"Enter your first name(s)\"))\n",
    "surstring = str(input(\"Enter your surname\"))\n",
    "\n",
    "fullname = (namstring.lower(),\", \",surstring.lower().capitalize())\n",
    "\n",
    "fullnamecapital = \" \".join(fullname).title()\n",
    "\n",
    "fullnamecapital = fullnamecapital.replace(\" ,\",\",\")\n",
    "\n",
    "print(fullnamecapital)\n",
    "\n"
   ]
  },
  {
   "cell_type": "code",
   "execution_count": 26,
   "id": "7e50907a",
   "metadata": {},
   "outputs": [
    {
     "name": "stdout",
     "output_type": "stream",
     "text": [
      "olleh\n"
     ]
    }
   ],
   "source": [
    "# Script programering 3-6\n",
    "\n",
    "import string\n",
    "\n",
    "sentence = str(input(\"Enter your sentence\"))\n",
    "\n",
    "print(sentence[::-1])"
   ]
  },
  {
   "cell_type": "code",
   "execution_count": null,
   "id": "b72c3fa3",
   "metadata": {},
   "outputs": [
    {
     "name": "stdout",
     "output_type": "stream",
     "text": [
      "'Alla känner gorillan, men gorillan känner igen\n"
     ]
    }
   ],
   "source": [
    "# Script programering 3-7\n",
    "\n",
    "sentence = \"Alla känner apan, men apan känner igen\"\n",
    "\n",
    "print(sentence.replace(\"apa\",\"gorilla\"))"
   ]
  },
  {
   "cell_type": "code",
   "execution_count": 28,
   "id": "91f9ed3e",
   "metadata": {},
   "outputs": [
    {
     "name": "stdout",
     "output_type": "stream",
     "text": [
      "The character ',' occurs 4 times in the sentence 'As a result of a drone attack #in Novorossiysk Bay, the large amphibious / ship Olenegorsky\n",
      "Gornyak was damaged,” said Serhiy Bratchuk, a spokesperson for military administration in the _\n",
      "Ukrainian port of Odesa, in a social media post.'\n"
     ]
    }
   ],
   "source": [
    "# Script programering 3-8\n",
    "\n",
    "sentence = f\"\"\"As a result of a drone attack #in Novorossiysk Bay, the large amphibious / ship Olenegorsky\n",
    "Gornyak was damaged,” said Serhiy Bratchuk, a spokesperson for military administration in the _\n",
    "Ukrainian port of Odesa, in a social media post.\"\"\"\n",
    "\n",
    "print(\"The character ',' occurs {} times in the sentence '{}'\".format(sentence.count(\",\"),sentence))\n",
    "\n"
   ]
  },
  {
   "cell_type": "code",
   "execution_count": 43,
   "id": "f81c4597",
   "metadata": {},
   "outputs": [
    {
     "name": "stdout",
     "output_type": "stream",
     "text": [
      "That's great to hear! Keep up the positive vibes!\n"
     ]
    }
   ],
   "source": [
    "# Script programering 3-9\n",
    "\n",
    "# pip install afinn\n",
    "\n",
    "from afinn import Afinn\n",
    "\n",
    "af = Afinn()\n",
    "\n",
    "response = str(input(\"How are you doing today?\"))\n",
    "\n",
    "score = af.score(response)\n",
    "\n",
    "if score > 5:\n",
    "    print(\"Wow, you seem to be having an amazing day! Keep shining!\")\n",
    "elif score > 0:\n",
    "    print(\"That's great to hear! Keep up the positive vibes!\")\n",
    "elif score < -5:\n",
    "    print(\"I'm really sorry to hear that you're feeling this way. Please take care and reach out to someone if you need help.\")\n",
    "elif score < 0:\n",
    "    print(\"Oh no, I'm sorry to hear that. I hope things get better soon!\")\n",
    "else:\n",
    "    print(\"Hmm, sounds like an okay day. Hope it gets even better!\")\n",
    "\n",
    "\n"
   ]
  },
  {
   "cell_type": "code",
   "execution_count": 56,
   "id": "3f93b02b",
   "metadata": {},
   "outputs": [
    {
     "ename": "ValueError",
     "evalue": "invalid literal for int() with base 10: '1.5'",
     "output_type": "error",
     "traceback": [
      "\u001b[0;31m---------------------------------------------------------------------------\u001b[0m",
      "\u001b[0;31mValueError\u001b[0m                                Traceback (most recent call last)",
      "Cell \u001b[0;32mIn[56], line 3\u001b[0m\n\u001b[1;32m      1\u001b[0m \u001b[38;5;66;03m# Script programering 3-10\u001b[39;00m\n\u001b[0;32m----> 3\u001b[0m number \u001b[38;5;241m=\u001b[39m \u001b[38;5;28mint\u001b[39m(\u001b[38;5;28minput\u001b[39m(\u001b[38;5;124m\"\u001b[39m\u001b[38;5;124mEnter a number: \u001b[39m\u001b[38;5;124m\"\u001b[39m))\n\u001b[1;32m      5\u001b[0m \u001b[38;5;28;01mif\u001b[39;00m \u001b[38;5;28mround\u001b[39m(number\u001b[38;5;241m/\u001b[39m\u001b[38;5;241m2\u001b[39m,\u001b[38;5;241m0\u001b[39m) \u001b[38;5;241m==\u001b[39m number\u001b[38;5;241m/\u001b[39m\u001b[38;5;241m2\u001b[39m:\n\u001b[1;32m      6\u001b[0m     \u001b[38;5;28mprint\u001b[39m(number,\u001b[38;5;124m\"\u001b[39m\u001b[38;5;124m is an even number\u001b[39m\u001b[38;5;124m\"\u001b[39m)\n",
      "\u001b[0;31mValueError\u001b[0m: invalid literal for int() with base 10: '1.5'"
     ]
    }
   ],
   "source": [
    "# Script programering 3-10\n",
    "\n",
    "number = int(input(\"Enter a number: \"))\n",
    "\n",
    "if round(number/2,0) == number/2:\n",
    "    print(number,\" is an even number\")\n",
    "else:\n",
    "    print(number,\" is not an even number\")\n"
   ]
  }
 ],
 "metadata": {
  "kernelspec": {
   "display_name": "base",
   "language": "python",
   "name": "python3"
  },
  "language_info": {
   "codemirror_mode": {
    "name": "ipython",
    "version": 3
   },
   "file_extension": ".py",
   "mimetype": "text/x-python",
   "name": "python",
   "nbconvert_exporter": "python",
   "pygments_lexer": "ipython3",
   "version": "3.13.5"
  }
 },
 "nbformat": 4,
 "nbformat_minor": 5
}
