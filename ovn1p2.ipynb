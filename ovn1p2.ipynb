{
 "cells": [
  {
   "cell_type": "code",
   "execution_count": 2,
   "id": "31e0f6a1",
   "metadata": {},
   "outputs": [
    {
     "name": "stdout",
     "output_type": "stream",
     "text": [
      "7  is of type: <class 'int'>\n",
      "5.0  is of type: <class 'float'>\n",
      "(1+4j)  is of type: <class 'complex'>\n"
     ]
    }
   ],
   "source": [
    "# Script programering 1-8\n",
    "\n",
    "str1 = 7\n",
    "str2 = 5.0\n",
    "str3 = (1+4j)\n",
    "\n",
    "print(str1,\" is of type:\", type(str1))\n",
    "print(str2,\" is of type:\", type(str2))\n",
    "print(str3,\" is of type:\", type(str3))"
   ]
  },
  {
   "cell_type": "code",
   "execution_count": 5,
   "id": "a5620e5d",
   "metadata": {},
   "outputs": [
    {
     "name": "stdout",
     "output_type": "stream",
     "text": [
      "After swapping a is 6 and b is 2\n"
     ]
    }
   ],
   "source": [
    "# Script programering 1-9\n",
    "\n",
    "a = input(\"Enter number a: \")\n",
    "b = input(\"Enter number b: \")\n",
    "\n",
    "temp = a\n",
    "a = b\n",
    "b = temp\n",
    "\n",
    "print(\"After swapping a is {} and b is {}\".format(a, b))\n",
    "\n"
   ]
  },
  {
   "cell_type": "code",
   "execution_count": null,
   "id": "3edd7df4",
   "metadata": {},
   "outputs": [],
   "source": [
    "# Script programering 1-10\n",
    "\n",
    "kilomiters = float(input(\"Enter kilometers: \"))\n",
    "conversion_factor = 0.621371\n",
    "miles = kilomiters * conversion_factor\n",
    "print(\"{} kilometers is equal to {} miles\".format(kilomiters, miles))\n"
   ]
  },
  {
   "cell_type": "code",
   "execution_count": null,
   "id": "a269082b",
   "metadata": {},
   "outputs": [
    {
     "name": "stdout",
     "output_type": "stream",
     "text": [
      "The square root of 4 is 2.0\n"
     ]
    }
   ],
   "source": [
    "# Script programering 1-11\n",
    "\n",
    "import math\n",
    "\n",
    "num = int(input(\"Enter a number: \"))\n",
    "\n",
    "root = math.sqrt(num)\n",
    "\n",
    "print(\"The square root of {} is {}\".format(num, root))\n"
   ]
  },
  {
   "cell_type": "code",
   "execution_count": 7,
   "id": "93258edf",
   "metadata": {},
   "outputs": [
    {
     "name": "stdout",
     "output_type": "stream",
     "text": [
      "The length of the string is: 66\n"
     ]
    }
   ],
   "source": [
    "# Script programering 1-12\n",
    "\n",
    "str1 = \"Hello i forna tider erövrade vikingarna nästa halva världs klotet \"\n",
    "\n",
    "lenght = len(str1)\n",
    "print(\"The length of the string is:\", lenght)\n"
   ]
  },
  {
   "cell_type": "code",
   "execution_count": 9,
   "id": "835d5d4c",
   "metadata": {},
   "outputs": [
    {
     "name": "stdout",
     "output_type": "stream",
     "text": [
      "Your BMI is: 0.2\n"
     ]
    }
   ],
   "source": [
    "# Script programering 1-13\n",
    "\n",
    "num1 = float(input(\"Enter your weight: \"))\n",
    "num2 = float(input(\"Enter your height: \"))\n",
    "bmi = num1 / (num2 ** 2)\n",
    "print(\"Your BMI is: {}\".format(bmi))"
   ]
  }
 ],
 "metadata": {
  "kernelspec": {
   "display_name": "base",
   "language": "python",
   "name": "python3"
  },
  "language_info": {
   "codemirror_mode": {
    "name": "ipython",
    "version": 3
   },
   "file_extension": ".py",
   "mimetype": "text/x-python",
   "name": "python",
   "nbconvert_exporter": "python",
   "pygments_lexer": "ipython3",
   "version": "3.13.5"
  }
 },
 "nbformat": 4,
 "nbformat_minor": 5
}
