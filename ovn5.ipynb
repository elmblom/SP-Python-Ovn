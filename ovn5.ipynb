{
 "cells": [
  {
   "cell_type": "code",
   "execution_count": null,
   "id": "6d6971fc",
   "metadata": {},
   "outputs": [],
   "source": [
    "# Script programering 5-1\n",
    "\n",
    "for i in range(1, 16):\n",
    "    print(i)\n",
    "    \n",
    "for i in range(20, 31):\n",
    "    print(i)\n",
    "    \n",
    "    output=\"\"\n",
    "for i in range(0,2000):\n",
    "    output+=(\"{},\".format(i))\n",
    "    \n",
    "output=output[:-1]\n",
    "print(output)\n",
    "\n",
    "for i in reversed(range(0,21)):\n",
    "    print(i-10)\n",
    "    \n"
   ]
  },
  {
   "cell_type": "code",
   "execution_count": null,
   "id": "63ee36df",
   "metadata": {},
   "outputs": [],
   "source": [
    "# Script programering 5-2\n",
    "\n",
    "for i in reversed(range(1,101)):\n",
    "    print(i)\n",
    "    "
   ]
  },
  {
   "cell_type": "code",
   "execution_count": null,
   "id": "53c7ed1e",
   "metadata": {},
   "outputs": [],
   "source": [
    "# Script programering 5-3\n",
    "\n",
    "for i in range(21):\n",
    "    if i % 2 != 0:\n",
    "        print(i)"
   ]
  },
  {
   "cell_type": "code",
   "execution_count": null,
   "id": "7a0bc9b0",
   "metadata": {},
   "outputs": [],
   "source": [
    "# Script programering 5-4\n",
    "\n",
    "nums=(1,3,5,7,9,11,13,15,17,19)\n",
    "for i in nums:\n",
    "    print(i)"
   ]
  },
  {
   "cell_type": "code",
   "execution_count": null,
   "id": "5210380f",
   "metadata": {},
   "outputs": [],
   "source": [
    "# Script programering 5-5\n",
    "\n",
    "sum = 0\n",
    "for i in range(1,51):\n",
    "    sum += i\n",
    "print(sum)"
   ]
  },
  {
   "cell_type": "code",
   "execution_count": null,
   "id": "e3d6d35f",
   "metadata": {},
   "outputs": [],
   "source": [
    "# Script programering 5-6\n",
    "\n",
    "for i in range(1,21):\n",
    "    print(\"{:<8}{:<8}{:<8}\".format(i,i*i,i*i*i*i))"
   ]
  },
  {
   "cell_type": "code",
   "execution_count": null,
   "id": "ad5df1ca",
   "metadata": {},
   "outputs": [],
   "source": [
    "# Script programering 5-7\n",
    "\n",
    "for i in range(-32,60):\n",
    "    print(\"{}C > {}F\".format(i,(32+i)*9/5))"
   ]
  },
  {
   "cell_type": "code",
   "execution_count": null,
   "id": "08630300",
   "metadata": {},
   "outputs": [],
   "source": [
    "# Script programering 5-8\n",
    "\n",
    "i = -32\n",
    "while i < 61:\n",
    "    print(\"{}C > {}F\".format(i,(32+i)*9/5))\n",
    "    i += 1"
   ]
  },
  {
   "cell_type": "code",
   "execution_count": null,
   "id": "5e587d3f",
   "metadata": {},
   "outputs": [],
   "source": [
    "# Script programering 5-9\n",
    "\n",
    "inp = input(\"Enter a string: \")\n",
    "output = \"\"\n",
    "for i in inp:\n",
    "    output+=i+\" \"\n",
    "print(output)\n",
    "\n"
   ]
  },
  {
   "cell_type": "code",
   "execution_count": null,
   "id": "f0ee1113",
   "metadata": {},
   "outputs": [],
   "source": [
    "# Script programering 5-10\n",
    "\n",
    "passw = \"Zxcvbnm123()\"\n",
    "epassw = input(\"Enter password: \")\n",
    "if epassw == \"\":\n",
    "    exit\n",
    "elif epassw == passw:\n",
    "    print(\"password ok\")\n",
    "else:\n",
    "    print(\"password not ok\")\n",
    "    "
   ]
  },
  {
   "cell_type": "code",
   "execution_count": null,
   "id": "418ba01f",
   "metadata": {},
   "outputs": [],
   "source": [
    "# Script programering 5-11\n",
    "\n",
    "for i in range(1,10):\n",
    "    print(i, end=', ')"
   ]
  },
  {
   "cell_type": "code",
   "execution_count": null,
   "id": "cf8e7920",
   "metadata": {},
   "outputs": [],
   "source": [
    "# Script programering 5-12\n",
    "\n",
    "for x in range(5):\n",
    "    for i in range(1,10):\n",
    "        print(i,end='')\n",
    "    print(\"\\n\")"
   ]
  },
  {
   "cell_type": "code",
   "execution_count": null,
   "id": "c4832b63",
   "metadata": {},
   "outputs": [],
   "source": [
    "# Script programering 5-13\n",
    "\n",
    "for x in range(10):\n",
    "    for i in range(x):\n",
    "        print(\"*\",end='')\n",
    "    print(\"\\n\")"
   ]
  },
  {
   "cell_type": "code",
   "execution_count": null,
   "id": "ca463010",
   "metadata": {},
   "outputs": [],
   "source": [
    "# Script programering 5-E1\n",
    "\n",
    "for x in range(10):\n",
    "    for i in range(10):\n",
    "        print(x,end='')\n",
    "    print()"
   ]
  },
  {
   "cell_type": "code",
   "execution_count": null,
   "id": "0a2d30f2",
   "metadata": {},
   "outputs": [],
   "source": [
    "# Script programering 5-E2\n",
    "\n",
    "for x in reversed(range(2,9)):\n",
    "    for i in range(x):\n",
    "        print(i,end='')\n",
    "    print()    \n",
    "    "
   ]
  },
  {
   "cell_type": "code",
   "execution_count": null,
   "id": "2cdd68a2",
   "metadata": {},
   "outputs": [],
   "source": [
    "# Script programering 5-E3\n",
    "\n",
    "for x in reversed(range(2,9)):\n",
    "    \n",
    "    output=\"\"\n",
    "    for i in range(x):\n",
    "        output+=str(i)\n",
    "    print(\"{:>8}\".format(output))"
   ]
  },
  {
   "cell_type": "code",
   "execution_count": null,
   "id": "5f7dab6a",
   "metadata": {},
   "outputs": [],
   "source": [
    "# Script programering 5-E4\n",
    "\n",
    "for x in reversed(range(11)):\n",
    "    output=\"\"\n",
    "    for i in reversed(range(x)):\n",
    "        output+=str(i)\n",
    "    for i in range(1,x):\n",
    "        output+=str(i)\n",
    "    print(\"{:>{}}\".format(output, x+9))\n",
    "        "
   ]
  },
  {
   "cell_type": "code",
   "execution_count": 70,
   "id": "d83943a4",
   "metadata": {},
   "outputs": [
    {
     "name": "stdout",
     "output_type": "stream",
     "text": [
      "   0   1   2   3   4   5   6   7   8   9  10\n",
      "   1   1   2   3   4   5   6   7   8   9  10\n",
      "   2   2   4   6   8  10  12  14  16  18  20\n",
      "   3   3   6   9  12  15  18  21  24  27  30\n",
      "   4   4   8  12  16  20  24  28  32  36  40\n",
      "   5   5  10  15  20  25  30  35  40  45  50\n",
      "   6   6  12  18  24  30  36  42  48  54  60\n",
      "   7   7  14  21  28  35  42  49  56  63  70\n",
      "   8   8  16  24  32  40  48  56  64  72  80\n",
      "   9   9  18  27  36  45  54  63  72  81  90\n",
      "  10  10  20  30  40  50  60  70  80  90 100\n"
     ]
    }
   ],
   "source": [
    "# Script programering 5-E5A\n",
    "\n",
    "lib=(0,1,2,3,4,5,6,7,8,9,10)\n",
    "for y in lib:\n",
    "    print(\"{:4d}\".format(y),end='')\n",
    "print()\n",
    "for x in range(1,11):\n",
    "    print(\"{:4d}\".format(lib[x]),end='')\n",
    "    for i in range(1,11):\n",
    "        print(\"{:4d}\".format(x*i),end='')\n",
    "    print()"
   ]
  },
  {
   "cell_type": "code",
   "execution_count": null,
   "id": "b2449b78",
   "metadata": {},
   "outputs": [
    {
     "name": "stdout",
     "output_type": "stream",
     "text": [
      "   0   1   2   3   4   5   6   7   8   9  10\n",
      "   1   1   2   3   4   5   6   7   8   9  10\n",
      "   2   2   4   6   8  10  12  14  16  18  20\n",
      "   3   3   6   9  12  15  18  21  24  27  30\n",
      "   4   4   8  12  16  20  24  28  32  36  40\n",
      "   5   5  10  15  20  25  30  35  40  45  50\n",
      "   6   6  12  18  24  30  36  42  48  54  60\n",
      "   7   7  14  21  28  35  42  49  56  63  70\n",
      "   8   8  16  24  32  40  48  56  64  72  80\n",
      "   9   9  18  27  36  45  54  63  72  81  90\n",
      "  10  10  20  30  40  50  60  70  80  90 100\n"
     ]
    }
   ],
   "source": [
    "# Script programering 5-E5B\n",
    "\n",
    "start = int(input(\"Enter the start of the table: \"))\n",
    "end = int(input(\"Enter the end of the table: \"))\n",
    "\n",
    "lib=range((start-1),(end+1))\n",
    "for y in lib:\n",
    "    print(\"{:4d}\".format(y),end='')\n",
    "print()\n",
    "for x in range(start, (end+1)):\n",
    "    print(\"{:4d}\".format(x), end='')\n",
    "    for i in range(start, (end+1)):\n",
    "        print(\"{:4d}\".format(x*i), end='')\n",
    "    print()"
   ]
  }
 ],
 "metadata": {
  "kernelspec": {
   "display_name": "Python 3",
   "language": "python",
   "name": "python3"
  },
  "language_info": {
   "codemirror_mode": {
    "name": "ipython",
    "version": 3
   },
   "file_extension": ".py",
   "mimetype": "text/x-python",
   "name": "python",
   "nbconvert_exporter": "python",
   "pygments_lexer": "ipython3",
   "version": "3.12.11"
  }
 },
 "nbformat": 4,
 "nbformat_minor": 5
}
