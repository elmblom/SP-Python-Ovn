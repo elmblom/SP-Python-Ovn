{
 "cells": [
  {
   "cell_type": "code",
   "execution_count": 3,
   "id": "5f46bdae",
   "metadata": {},
   "outputs": [
    {
     "name": "stdout",
     "output_type": "stream",
     "text": [
      "Please enter two numbers:\n",
      "The sum of the two numbers is:  7.0  and the product is :  10.0\n"
     ]
    }
   ],
   "source": [
    "# Script programering 1-1\n",
    "\n",
    "print(\"Please enter two numbers:\")\n",
    "\n",
    "num1 = float(input(\"Number 1: \"))\n",
    "num2 = float(input(\"Number 2: \"))\n",
    "\n",
    "print(\"The sum of the two numbers is: \", num1 + num2, \" and the product is : \", num1 * num2)"
   ]
  },
  {
   "cell_type": "code",
   "execution_count": null,
   "id": "7311203b",
   "metadata": {},
   "outputs": [
    {
     "name": "stdout",
     "output_type": "stream",
     "text": [
      "Please enter the height a width of your triangle:\n",
      "The area of your triangle is :  8.0\n"
     ]
    }
   ],
   "source": [
    "# Script programering 1-2\n",
    "\n",
    "print(\"Please enter the height a width of your triangle:\")\n",
    "\n",
    "height = float(input(\"Height: \"))\n",
    "width = float(input(\"Width: \"))\n",
    "\n",
    "print(\"The area of your triangle is : \", (height * width) / 2, \" units\")"
   ]
  },
  {
   "cell_type": "code",
   "execution_count": 5,
   "id": "307be665",
   "metadata": {},
   "outputs": [
    {
     "name": "stdout",
     "output_type": "stream",
     "text": [
      "Please enter the price of the item\n",
      "The discounted price of your item is : 0.85\n"
     ]
    }
   ],
   "source": [
    "# Script programering 1-3\n",
    "\n",
    "print(\"Please enter the price of the item\")\n",
    "\n",
    "price = float(input(\"Price: \"))\n",
    "print(\"The discounted price of your item is :\", price * 0.85)"
   ]
  },
  {
   "cell_type": "code",
   "execution_count": 9,
   "id": "b9ce2094",
   "metadata": {},
   "outputs": [
    {
     "name": "stdout",
     "output_type": "stream",
     "text": [
      "Please enter the price of the item\n",
      "Please enter the discount percentage\n",
      "The discounted price of your item is : 0.85\n"
     ]
    }
   ],
   "source": [
    "# Script programering 1-4\n",
    "\n",
    "print(\"Please enter the price of the item\")\n",
    "\n",
    "price = float(input(\"Price: \"))\n",
    "\n",
    "print(\"Please enter the discount percentage\")\n",
    "\n",
    "discount = float(input(\"Discount percentage: \"))\n",
    "\n",
    "print(\"The discounted price of your item is :\", price * (1 - discount / 100))"
   ]
  },
  {
   "cell_type": "code",
   "execution_count": null,
   "id": "ba592b96",
   "metadata": {},
   "outputs": [
    {
     "name": "stdout",
     "output_type": "stream",
     "text": [
      "+-------------------------------------------------------------------------------+\n",
      "| Receipt                                                                       |\n",
      "| Volume: 100.0 L                                                               |\n",
      "| PPL: 20.0 €                                                                   |\n",
      "| Final Price: 2000.0 €                                                         |\n",
      "|                                                                               |\n",
      "| Come again! :)                                                                |\n",
      "|                                                                               |\n",
      "|                                                                               |\n",
      "|                                                                               |\n",
      "+-------------------------------------------------------------------------------+\n"
     ]
    }
   ],
   "source": [
    "# Script programering 1-5\n",
    "\n",
    "volume = float(input(\"Please enter the volume of the petroil in liters: \"))\n",
    "price_per_liter = float(input(\"Please enter the price per liter: \"))\n",
    "final_price = volume * price_per_liter \n",
    "\n",
    "receipt = f\"\"\"\n",
    "+-------------------------------------------------------------------------------+\n",
    "| Receipt                                                                       |\n",
    "| Volume: {f\"{volume} L\":<70}|\n",
    "| PPL: {f\"{price_per_liter} €\":<73}|\n",
    "| Final Price: {f\"{final_price} €\":<65}|\n",
    "|                                                                               |\n",
    "| Please come again! :)                                                         |\n",
    "|                                                                               |\n",
    "|                                                                               |\n",
    "|                                                                               |\n",
    "+-------------------------------------------------------------------------------+\n",
    "\"\"\".strip(\"\\n\")\n",
    "\n",
    "print(receipt)\n"
   ]
  },
  {
   "cell_type": "code",
   "execution_count": 23,
   "id": "f5659309",
   "metadata": {},
   "outputs": [
    {
     "name": "stdout",
     "output_type": "stream",
     "text": [
      "    28\n",
      "    8\n",
      "+   210\n",
      "========\n",
      "    246\n"
     ]
    }
   ],
   "source": [
    "# Script programering 1-6\n",
    "\n",
    "num1 = 28\n",
    "num2 = 8\n",
    "num3 = 210\n",
    "\n",
    "\n",
    "calc = f\"\"\"\n",
    "\n",
    "    {num1}\n",
    "    {num2}\n",
    "+   {num3}\n",
    "========\n",
    "    {num1 + num2 + num3}\n",
    "\n",
    "\"\"\".strip(\"\\n\")\n",
    "\n",
    "print(calc)\n"
   ]
  },
  {
   "cell_type": "code",
   "execution_count": 26,
   "id": "8bd4a421",
   "metadata": {},
   "outputs": [
    {
     "name": "stdout",
     "output_type": "stream",
     "text": [
      "    123.45\n",
      "    6.70\n",
      "+   89.01\n",
      "========\n",
      "    219.16\n"
     ]
    }
   ],
   "source": [
    "# Script programering 1-7\n",
    "\n",
    "num1 = float(123.45)\n",
    "num2 = float(6.7)\n",
    "num3 = float(89.01)\n",
    "\n",
    "\n",
    "calc = f\"\"\"\n",
    "\n",
    "    {f\"{num1:.2f}\"}\n",
    "    {f\"{num2:.2f}\"}\n",
    "+   {f\"{num3:.2f}\"}\n",
    "========\n",
    "    {f\"{num1 + num2 + num3:.2f}\"}\n",
    "\n",
    "\"\"\".strip(\"\\n\")\n",
    "\n",
    "print(calc)\n"
   ]
  }
 ],
 "metadata": {
  "kernelspec": {
   "display_name": "base",
   "language": "python",
   "name": "python3"
  },
  "language_info": {
   "codemirror_mode": {
    "name": "ipython",
    "version": 3
   },
   "file_extension": ".py",
   "mimetype": "text/x-python",
   "name": "python",
   "nbconvert_exporter": "python",
   "pygments_lexer": "ipython3",
   "version": "3.13.5"
  }
 },
 "nbformat": 4,
 "nbformat_minor": 5
}
