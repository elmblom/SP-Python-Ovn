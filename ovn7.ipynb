{
 "cells": [
  {
   "cell_type": "code",
   "execution_count": 7,
   "id": "d018b8c8",
   "metadata": {},
   "outputs": [
    {
     "name": "stdout",
     "output_type": "stream",
     "text": [
      "24.333333333333332\n"
     ]
    }
   ],
   "source": [
    "# Script programering 7-1\n",
    "\n",
    "def mean(a,b,c):\n",
    "    return(a+b+c)/3\n",
    "\n",
    "a = 21.3\n",
    "b = 27.2\n",
    "c = 24.5 \n",
    "\n",
    "print(mean(a,b,c))"
   ]
  },
  {
   "cell_type": "code",
   "execution_count": null,
   "id": "c1aaf615",
   "metadata": {},
   "outputs": [],
   "source": [
    "# Script programering 7-2\n",
    "\n",
    "def title():\n",
    "    print(\"Extremely Advanced Temperature Analyzer\")\n",
    "\n",
    "def getnums(amount):\n",
    "    nums=[]\n",
    "    for x in range(amount):\n",
    "        nums.append(float(input(\"Enter a temperature reading {}/{}\".format(len(nums),amount))))\n",
    "    return nums\n",
    "        \n",
    "def mean(arr):\n",
    "    return sum(x for x in arr) / len(arr) if arr else 0\n",
    "\n",
    "def output():\n",
    "    print(mean(getnums(5)))\n",
    "    \n",
    "def main():\n",
    "    title()\n",
    "    output()\n",
    "    \n",
    "main()"
   ]
  },
  {
   "cell_type": "code",
   "execution_count": null,
   "id": "51c076ce",
   "metadata": {},
   "outputs": [],
   "source": [
    "# Script programering 7-3\n",
    "\n",
    "print(\"Vad menas med att anropa en funktion i ett program?\")\n",
    "print(\"Att kalla på färdigt definierade kommandon\\n\")\n",
    "print(\"Vilka är fördelarna med att andvända funktioner när man bygger upp ett program?\")\n",
    "print(\"Bättre struktur och det går lättare att återanvända kod\\n\")\n",
    "print(\"Hur känner man igen en funktion i ett Python program?\")\n",
    "print(\"def[function name] allt indenterat uder det är funktionen\\n\")\n",
    "print(\"Vad kallas de värden som kan finnas uppräknade inom parenteserna hos en funktionsdefinition?\")\n",
    "print(\"Arguments/parameters\\n\")\n",
    "print(\"Vad kallas de värden som eventuelt sätts inom parenteserna vid anrop av en funktion?\")\n",
    "print(\"Parameters/arguments\\n\")\n",
    "print(\"Ved menas med att funktionen returnerar något\")\n",
    "print(\"Det som returneras hamnar där funktionen kallades, tex om man har print(function()) så skrivs det som funtionen returnerar ut\\n\")\n",
    "print(\"Vad menas med en docstring och vad kan man ha för användning av en såndan?\")\n",
    "print(\"Kort sagt, dokumentation för funktioner\\n\")\n",
    "print(\"Hur kan man starta en doc. menual med hjälp ac python och vilke port använder ni skriv ner porten?\")\n",
    "print(\"Trippla quotes inanför funktionen ('''nånting'''), skrivs ut med [functionname].__doc__ eller help([functionname])\\n\")"
   ]
  },
  {
   "cell_type": "code",
   "execution_count": null,
   "id": "358a00c7",
   "metadata": {},
   "outputs": [],
   "source": [
    "# Script programering 7-4\n",
    "\n",
    "#a\n",
    "#import [module_name]\n",
    "\n",
    "#b\n",
    "#print(inspect.getsource([module_name].get))\n",
    "\n",
    "#c\n",
    "#[module_name].[function_name].__doc__"
   ]
  },
  {
   "cell_type": "code",
   "execution_count": null,
   "id": "1fc46651",
   "metadata": {},
   "outputs": [],
   "source": [
    "# Script programering 7-5\n",
    "\n"
   ]
  }
 ],
 "metadata": {
  "kernelspec": {
   "display_name": "Python 3",
   "language": "python",
   "name": "python3"
  },
  "language_info": {
   "codemirror_mode": {
    "name": "ipython",
    "version": 3
   },
   "file_extension": ".py",
   "mimetype": "text/x-python",
   "name": "python",
   "nbconvert_exporter": "python",
   "pygments_lexer": "ipython3",
   "version": "3.13.7"
  }
 },
 "nbformat": 4,
 "nbformat_minor": 5
}
