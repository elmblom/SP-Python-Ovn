{
 "cells": [
  {
   "cell_type": "code",
   "execution_count": 1,
   "id": "e08a1474",
   "metadata": {},
   "outputs": [
    {
     "name": "stdout",
     "output_type": "stream",
     "text": [
      "5.0\n",
      "2.0\n"
     ]
    }
   ],
   "source": [
    "# Script programering 4b-1\n",
    "\n",
    "amount = int(input(\"How many numbers do you wish to enter?\"))\n",
    "numbers = []\n",
    "\n",
    "for x in range(amount):\n",
    "    newnumber = float(input(\"Enter a number {}/{}\".format(x,amount)))\n",
    "    numbers.append(newnumber)\n",
    "    \n",
    "for x in numbers:\n",
    "    print(x)\n",
    "\n"
   ]
  },
  {
   "cell_type": "code",
   "execution_count": 5,
   "id": "4a0d1ba2",
   "metadata": {},
   "outputs": [
    {
     "name": "stdout",
     "output_type": "stream",
     "text": [
      "2.0\n",
      "1.0\n"
     ]
    }
   ],
   "source": [
    "# Script programering 4b-2\n",
    "\n",
    "amount = int(input(\"How many numbers do you wish to enter?\"))\n",
    "numbers = []\n",
    "\n",
    "for x in range(amount):\n",
    "    newnumber = float(input(\"Enter a number {}/{}\".format(x,amount)))\n",
    "    numbers.append(newnumber)\n",
    "        \n",
    "for x in reversed(numbers):\n",
    "    print(x)"
   ]
  },
  {
   "cell_type": "code",
   "execution_count": null,
   "id": "76405324",
   "metadata": {},
   "outputs": [
    {
     "name": "stdout",
     "output_type": "stream",
     "text": [
      "The mean value is:  -0.5\n",
      "The absolute values are:  [4.0, 3.0]\n",
      "The sum of the values is:  -1.0\n"
     ]
    }
   ],
   "source": [
    "# Script programering 4b-3\n",
    "\n",
    "amount = int(input(\"How many numbers do you wish to enter?\"))\n",
    "absolute = []\n",
    "numbers = []\n",
    "sum = 0\n",
    "\n",
    "for x in range(amount):\n",
    "    newnumber = float(input(\"Enter a number {}/{}\".format(x,amount)))\n",
    "    numbers.append(newnumber)\n",
    "    sum += newnumber\n",
    "\n",
    "mean = sum / numbers.__len__()\n",
    "\n",
    "for x in numbers:\n",
    "    if x < 0:\n",
    "        x -= x*2 \n",
    "    absolute.append(x)\n",
    "    \n",
    "print(\"The mean value is: \", mean)\n",
    "print(\"The absolute values are: \", absolute)\n",
    "print(\"The sum of the values is: \", sum)\n",
    "\n",
    "\n",
    "    \n"
   ]
  },
  {
   "cell_type": "code",
   "execution_count": 94,
   "id": "b0b4bbc0",
   "metadata": {},
   "outputs": [
    {
     "name": "stdout",
     "output_type": "stream",
     "text": [
      "The smallest number in the array is 0 and can be found at the position(s) 14, 77 and 94\n",
      "[0, 28, 94, 25, 57, 98, 86, 59, 82, 9, 47, 9, 33, 26, 86, 24, 65, 38, 46, 85, 49, 78, 57, 92, 53, 55, 38, 40, 85, 2, 85, 25, 88, 44, 45, 22, 98, 5, 12, 58, 4, 58, 80, 63, 22, 47, 59, 51, 83, 19, 33, 75, 96, 83, 71, 86, 23, 36, 88, 29, 74, 17, 62, 63, 73, 72, 61, 56, 32, 26, 62, 44, 94, 67, 31, 61, 82, 0, 24, 38, 91, 18, 92, 43, 36, 61, 4, 3, 37, 29, 37, 86, 76, 18, 0, 37, 93, 5, 62, 36]\n",
      "[0, 0, 0, 2, 3, 4, 4, 5, 5, 9, 9, 12, 17, 18, 18, 19, 22, 22, 23, 24, 24, 25, 25, 26, 26, 28, 29, 29, 31, 32, 33, 33, 36, 36, 36, 37, 37, 37, 38, 38, 38, 40, 43, 44, 44, 45, 46, 47, 47, 49, 51, 53, 55, 56, 57, 57, 58, 58, 59, 59, 61, 61, 61, 62, 62, 62, 63, 63, 65, 67, 71, 72, 73, 74, 75, 76, 78, 80, 82, 82, 83, 83, 85, 85, 85, 86, 86, 86, 86, 88, 88, 91, 92, 92, 93, 94, 94, 96, 98, 98]\n"
     ]
    }
   ],
   "source": [
    "# Script programering 4b-4\n",
    "\n",
    "import random\n",
    "\n",
    "numarr = []\n",
    "\n",
    "for x in range(100):\n",
    "    ran = random.randint(0,100)\n",
    "    numarr.append(ran)\n",
    "    \n",
    "smallest = min(numarr)\n",
    "\n",
    "positions = []\n",
    "for x in range(len(numarr)):\n",
    "    if numarr[x] == smallest:\n",
    "        positions.append(x)\n",
    "                \n",
    "answ = \"\"\n",
    "y = 1        \n",
    "for x in positions:\n",
    "    if y == len(positions):\n",
    "        answ += \"{}\".format(x)\n",
    "        y += 1\n",
    "    elif y == len(positions)-1:\n",
    "        answ += \"{} and \".format(x)\n",
    "        y += 1\n",
    "    else:\n",
    "        answ += \"{}, \".format(x)\n",
    "        y += 1    \n",
    "\n",
    "print(\"The smallest number in the array is {} and can be found at the position(s) {}\".format(smallest,answ))\n",
    "\n",
    "# Script programering 4b-5\n",
    "\n",
    "newarr = numarr\n",
    "temp = newarr[0]\n",
    "newarr[0] = smallest\n",
    "newarr[positions[0]] = temp\n",
    "\n",
    "print(newarr)\n",
    "\n",
    "# Script programering 4b-6\n",
    "\n",
    "newarr.sort()\n",
    "print(newarr)"
   ]
  },
  {
   "cell_type": "code",
   "execution_count": null,
   "id": "b52f2677",
   "metadata": {},
   "outputs": [
    {
     "name": "stdout",
     "output_type": "stream",
     "text": [
      "The median of the temperatures is: 34.0\n",
      "Temperatures that are higher than the\n",
      "73.0 is larger than the mean\n",
      "92.0 is larger than the mean\n"
     ]
    }
   ],
   "source": [
    "# Script programering 4b-7\n",
    "\n",
    "temps = input(\"Enter your mesured temperatures sepparated by spaces: \").strip()\n",
    "temparr = [float(x) for x in temps.split(\" \")]\n",
    "sum = 0\n",
    "\n",
    "for x in temparr:\n",
    "    sum += x\n",
    "\n",
    "mean = sum / temparr.__len__()\n",
    "\n",
    "print(\"The median of the temperatures is: {}\".format(mean))\n",
    "print(\"Temperatures that are higher than the mean\")\n",
    "\n",
    "for x in temparr:\n",
    "    if x > mean:\n",
    "        print(\"{} is larger than the mean\".format(x))    \n"
   ]
  }
 ],
 "metadata": {
  "kernelspec": {
   "display_name": "Python 3 (ipykernel)",
   "language": "python",
   "name": "python3"
  }
 },
 "nbformat": 4,
 "nbformat_minor": 5
}
